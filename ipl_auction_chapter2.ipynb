{
 "cells": [
  {
   "cell_type": "code",
   "execution_count": 71,
   "id": "059d09ca-2bd4-439f-8d4d-7dd9a1775218",
   "metadata": {},
   "outputs": [],
   "source": [
    "import pandas as pd\n",
    "import numpy as np"
   ]
  },
  {
   "cell_type": "markdown",
   "id": "71d3f46d-bb66-4c59-9be6-9d9c93d22c52",
   "metadata": {},
   "source": [
    "### Reading the data into the notebook\n"
   ]
  },
  {
   "cell_type": "code",
   "execution_count": 72,
   "id": "46f2260e-3b91-443c-8928-359cade1ca27",
   "metadata": {},
   "outputs": [
    {
     "data": {
      "text/html": [
       "<div>\n",
       "<style scoped>\n",
       "    .dataframe tbody tr th:only-of-type {\n",
       "        vertical-align: middle;\n",
       "    }\n",
       "\n",
       "    .dataframe tbody tr th {\n",
       "        vertical-align: top;\n",
       "    }\n",
       "\n",
       "    .dataframe thead th {\n",
       "        text-align: right;\n",
       "    }\n",
       "</style>\n",
       "<table border=\"1\" class=\"dataframe\">\n",
       "  <thead>\n",
       "    <tr style=\"text-align: right;\">\n",
       "      <th></th>\n",
       "      <th>Sl.NO.</th>\n",
       "      <th>PLAYER NAME</th>\n",
       "      <th>AGE</th>\n",
       "      <th>COUNTRY</th>\n",
       "      <th>TEAM</th>\n",
       "      <th>PLAYING ROLE</th>\n",
       "      <th>T-RUNS</th>\n",
       "      <th>T-WKTS</th>\n",
       "      <th>ODI-RUNS-S</th>\n",
       "      <th>ODI-SR-B</th>\n",
       "      <th>...</th>\n",
       "      <th>SR-B</th>\n",
       "      <th>SIXERS</th>\n",
       "      <th>RUNS-C</th>\n",
       "      <th>WKTS</th>\n",
       "      <th>AVE-BL</th>\n",
       "      <th>ECON</th>\n",
       "      <th>SR-BL</th>\n",
       "      <th>AUCTION YEAR</th>\n",
       "      <th>BASE PRICE</th>\n",
       "      <th>SOLD PRICE</th>\n",
       "    </tr>\n",
       "  </thead>\n",
       "  <tbody>\n",
       "    <tr>\n",
       "      <th>0</th>\n",
       "      <td>1</td>\n",
       "      <td>Abdulla, YA</td>\n",
       "      <td>2</td>\n",
       "      <td>SA</td>\n",
       "      <td>KXIP</td>\n",
       "      <td>Allrounder</td>\n",
       "      <td>0</td>\n",
       "      <td>0</td>\n",
       "      <td>0</td>\n",
       "      <td>0.00</td>\n",
       "      <td>...</td>\n",
       "      <td>0.00</td>\n",
       "      <td>0</td>\n",
       "      <td>307</td>\n",
       "      <td>15</td>\n",
       "      <td>20.47</td>\n",
       "      <td>8.90</td>\n",
       "      <td>13.93</td>\n",
       "      <td>2009</td>\n",
       "      <td>50000</td>\n",
       "      <td>50000</td>\n",
       "    </tr>\n",
       "    <tr>\n",
       "      <th>1</th>\n",
       "      <td>2</td>\n",
       "      <td>Abdur Razzak</td>\n",
       "      <td>2</td>\n",
       "      <td>BAN</td>\n",
       "      <td>RCB</td>\n",
       "      <td>Bowler</td>\n",
       "      <td>214</td>\n",
       "      <td>18</td>\n",
       "      <td>657</td>\n",
       "      <td>71.41</td>\n",
       "      <td>...</td>\n",
       "      <td>0.00</td>\n",
       "      <td>0</td>\n",
       "      <td>29</td>\n",
       "      <td>0</td>\n",
       "      <td>0.00</td>\n",
       "      <td>14.50</td>\n",
       "      <td>0.00</td>\n",
       "      <td>2008</td>\n",
       "      <td>50000</td>\n",
       "      <td>50000</td>\n",
       "    </tr>\n",
       "    <tr>\n",
       "      <th>2</th>\n",
       "      <td>3</td>\n",
       "      <td>Agarkar, AB</td>\n",
       "      <td>2</td>\n",
       "      <td>IND</td>\n",
       "      <td>KKR</td>\n",
       "      <td>Bowler</td>\n",
       "      <td>571</td>\n",
       "      <td>58</td>\n",
       "      <td>1269</td>\n",
       "      <td>80.62</td>\n",
       "      <td>...</td>\n",
       "      <td>121.01</td>\n",
       "      <td>5</td>\n",
       "      <td>1059</td>\n",
       "      <td>29</td>\n",
       "      <td>36.52</td>\n",
       "      <td>8.81</td>\n",
       "      <td>24.90</td>\n",
       "      <td>2008</td>\n",
       "      <td>200000</td>\n",
       "      <td>350000</td>\n",
       "    </tr>\n",
       "    <tr>\n",
       "      <th>3</th>\n",
       "      <td>4</td>\n",
       "      <td>Ashwin, R</td>\n",
       "      <td>1</td>\n",
       "      <td>IND</td>\n",
       "      <td>CSK</td>\n",
       "      <td>Bowler</td>\n",
       "      <td>284</td>\n",
       "      <td>31</td>\n",
       "      <td>241</td>\n",
       "      <td>84.56</td>\n",
       "      <td>...</td>\n",
       "      <td>76.32</td>\n",
       "      <td>0</td>\n",
       "      <td>1125</td>\n",
       "      <td>49</td>\n",
       "      <td>22.96</td>\n",
       "      <td>6.23</td>\n",
       "      <td>22.14</td>\n",
       "      <td>2011</td>\n",
       "      <td>100000</td>\n",
       "      <td>850000</td>\n",
       "    </tr>\n",
       "    <tr>\n",
       "      <th>4</th>\n",
       "      <td>5</td>\n",
       "      <td>Badrinath, S</td>\n",
       "      <td>2</td>\n",
       "      <td>IND</td>\n",
       "      <td>CSK</td>\n",
       "      <td>Batsman</td>\n",
       "      <td>63</td>\n",
       "      <td>0</td>\n",
       "      <td>79</td>\n",
       "      <td>45.93</td>\n",
       "      <td>...</td>\n",
       "      <td>120.71</td>\n",
       "      <td>28</td>\n",
       "      <td>0</td>\n",
       "      <td>0</td>\n",
       "      <td>0.00</td>\n",
       "      <td>0.00</td>\n",
       "      <td>0.00</td>\n",
       "      <td>2011</td>\n",
       "      <td>100000</td>\n",
       "      <td>800000</td>\n",
       "    </tr>\n",
       "  </tbody>\n",
       "</table>\n",
       "<p>5 rows × 26 columns</p>\n",
       "</div>"
      ],
      "text/plain": [
       "   Sl.NO.   PLAYER NAME  AGE COUNTRY  TEAM PLAYING ROLE  T-RUNS  T-WKTS  \\\n",
       "0       1   Abdulla, YA    2      SA  KXIP   Allrounder       0       0   \n",
       "1       2  Abdur Razzak    2     BAN   RCB       Bowler     214      18   \n",
       "2       3   Agarkar, AB    2     IND   KKR       Bowler     571      58   \n",
       "3       4     Ashwin, R    1     IND   CSK       Bowler     284      31   \n",
       "4       5  Badrinath, S    2     IND   CSK      Batsman      63       0   \n",
       "\n",
       "   ODI-RUNS-S  ODI-SR-B  ...    SR-B  SIXERS  RUNS-C  WKTS  AVE-BL   ECON  \\\n",
       "0           0      0.00  ...    0.00       0     307    15   20.47   8.90   \n",
       "1         657     71.41  ...    0.00       0      29     0    0.00  14.50   \n",
       "2        1269     80.62  ...  121.01       5    1059    29   36.52   8.81   \n",
       "3         241     84.56  ...   76.32       0    1125    49   22.96   6.23   \n",
       "4          79     45.93  ...  120.71      28       0     0    0.00   0.00   \n",
       "\n",
       "   SR-BL  AUCTION YEAR  BASE PRICE  SOLD PRICE  \n",
       "0  13.93          2009       50000       50000  \n",
       "1   0.00          2008       50000       50000  \n",
       "2  24.90          2008      200000      350000  \n",
       "3  22.14          2011      100000      850000  \n",
       "4   0.00          2011      100000      800000  \n",
       "\n",
       "[5 rows x 26 columns]"
      ]
     },
     "execution_count": 72,
     "metadata": {},
     "output_type": "execute_result"
    }
   ],
   "source": [
    "df_ipl_auction = pd.read_csv(\"IPL IMB381IPL2013.csv\")\n",
    "df_ipl_auction.head()"
   ]
  },
  {
   "cell_type": "code",
   "execution_count": 73,
   "id": "f1ff8610-f62b-4974-8910-80748c1b2f94",
   "metadata": {},
   "outputs": [
    {
     "data": {
      "text/plain": [
       "pandas.core.frame.DataFrame"
      ]
     },
     "execution_count": 73,
     "metadata": {},
     "output_type": "execute_result"
    }
   ],
   "source": [
    "type(df_ipl_auction)"
   ]
  },
  {
   "cell_type": "markdown",
   "id": "90ea4653-5d3e-4425-928f-b565637c7645",
   "metadata": {},
   "source": [
    "### Finding the summary of the dataframe"
   ]
  },
  {
   "cell_type": "code",
   "execution_count": 74,
   "id": "0c4cb096-63d7-41c3-87c8-9556a9ea76a2",
   "metadata": {},
   "outputs": [
    {
     "data": {
      "text/plain": [
       "Index(['Sl.NO.', 'PLAYER NAME', 'AGE', 'COUNTRY', 'TEAM', 'PLAYING ROLE',\n",
       "       'T-RUNS', 'T-WKTS', 'ODI-RUNS-S', 'ODI-SR-B', 'ODI-WKTS', 'ODI-SR-BL',\n",
       "       'CAPTAINCY EXP', 'RUNS-S', 'HS', 'AVE', 'SR-B', 'SIXERS', 'RUNS-C',\n",
       "       'WKTS', 'AVE-BL', 'ECON', 'SR-BL', 'AUCTION YEAR', 'BASE PRICE',\n",
       "       'SOLD PRICE'],\n",
       "      dtype='object')"
      ]
     },
     "execution_count": 74,
     "metadata": {},
     "output_type": "execute_result"
    }
   ],
   "source": [
    "df_ipl_auction.columns"
   ]
  },
  {
   "cell_type": "markdown",
   "id": "a4a0bc71-04c9-4e87-919c-79a414647dc9",
   "metadata": {},
   "source": [
    "If too many columns, then use 'tranpose'. It shows rows as columns and vice versa"
   ]
  },
  {
   "cell_type": "code",
   "execution_count": 75,
   "id": "5911a676-3925-4f4f-9ebb-b4042c5479fc",
   "metadata": {},
   "outputs": [
    {
     "data": {
      "text/plain": [
       "(130, 26)"
      ]
     },
     "execution_count": 75,
     "metadata": {},
     "output_type": "execute_result"
    }
   ],
   "source": [
    "# dimension of the df\n",
    "df_ipl_auction.shape"
   ]
  },
  {
   "cell_type": "code",
   "execution_count": 76,
   "id": "4e647097-0a92-4a04-a8da-66ed0027240d",
   "metadata": {},
   "outputs": [
    {
     "name": "stdout",
     "output_type": "stream",
     "text": [
      "<class 'pandas.core.frame.DataFrame'>\n",
      "RangeIndex: 130 entries, 0 to 129\n",
      "Data columns (total 26 columns):\n",
      " #   Column         Non-Null Count  Dtype  \n",
      "---  ------         --------------  -----  \n",
      " 0   Sl.NO.         130 non-null    int64  \n",
      " 1   PLAYER NAME    130 non-null    object \n",
      " 2   AGE            130 non-null    int64  \n",
      " 3   COUNTRY        130 non-null    object \n",
      " 4   TEAM           130 non-null    object \n",
      " 5   PLAYING ROLE   130 non-null    object \n",
      " 6   T-RUNS         130 non-null    int64  \n",
      " 7   T-WKTS         130 non-null    int64  \n",
      " 8   ODI-RUNS-S     130 non-null    int64  \n",
      " 9   ODI-SR-B       130 non-null    float64\n",
      " 10  ODI-WKTS       130 non-null    int64  \n",
      " 11  ODI-SR-BL      130 non-null    float64\n",
      " 12  CAPTAINCY EXP  130 non-null    int64  \n",
      " 13  RUNS-S         130 non-null    int64  \n",
      " 14  HS             130 non-null    int64  \n",
      " 15  AVE            130 non-null    float64\n",
      " 16  SR-B           130 non-null    float64\n",
      " 17  SIXERS         130 non-null    int64  \n",
      " 18  RUNS-C         130 non-null    int64  \n",
      " 19  WKTS           130 non-null    int64  \n",
      " 20  AVE-BL         130 non-null    float64\n",
      " 21  ECON           130 non-null    float64\n",
      " 22  SR-BL          130 non-null    float64\n",
      " 23  AUCTION YEAR   130 non-null    int64  \n",
      " 24  BASE PRICE     130 non-null    int64  \n",
      " 25  SOLD PRICE     130 non-null    int64  \n",
      "dtypes: float64(7), int64(15), object(4)\n",
      "memory usage: 26.5+ KB\n"
     ]
    }
   ],
   "source": [
    "df_ipl_auction.info()"
   ]
  },
  {
   "cell_type": "markdown",
   "id": "271ab179-7fcd-4bd4-9298-c5e9148b7ce0",
   "metadata": {},
   "source": [
    "### Slicing and Indexing"
   ]
  },
  {
   "cell_type": "code",
   "execution_count": 77,
   "id": "3f314876-dbca-4fea-a6ae-010be341ec01",
   "metadata": {},
   "outputs": [
    {
     "data": {
      "text/html": [
       "<div>\n",
       "<style scoped>\n",
       "    .dataframe tbody tr th:only-of-type {\n",
       "        vertical-align: middle;\n",
       "    }\n",
       "\n",
       "    .dataframe tbody tr th {\n",
       "        vertical-align: top;\n",
       "    }\n",
       "\n",
       "    .dataframe thead th {\n",
       "        text-align: right;\n",
       "    }\n",
       "</style>\n",
       "<table border=\"1\" class=\"dataframe\">\n",
       "  <thead>\n",
       "    <tr style=\"text-align: right;\">\n",
       "      <th></th>\n",
       "      <th>Sl.NO.</th>\n",
       "      <th>PLAYER NAME</th>\n",
       "      <th>AGE</th>\n",
       "      <th>COUNTRY</th>\n",
       "      <th>TEAM</th>\n",
       "      <th>PLAYING ROLE</th>\n",
       "      <th>T-RUNS</th>\n",
       "      <th>T-WKTS</th>\n",
       "      <th>ODI-RUNS-S</th>\n",
       "      <th>ODI-SR-B</th>\n",
       "      <th>...</th>\n",
       "      <th>SR-B</th>\n",
       "      <th>SIXERS</th>\n",
       "      <th>RUNS-C</th>\n",
       "      <th>WKTS</th>\n",
       "      <th>AVE-BL</th>\n",
       "      <th>ECON</th>\n",
       "      <th>SR-BL</th>\n",
       "      <th>AUCTION YEAR</th>\n",
       "      <th>BASE PRICE</th>\n",
       "      <th>SOLD PRICE</th>\n",
       "    </tr>\n",
       "  </thead>\n",
       "  <tbody>\n",
       "    <tr>\n",
       "      <th>0</th>\n",
       "      <td>1</td>\n",
       "      <td>Abdulla, YA</td>\n",
       "      <td>2</td>\n",
       "      <td>SA</td>\n",
       "      <td>KXIP</td>\n",
       "      <td>Allrounder</td>\n",
       "      <td>0</td>\n",
       "      <td>0</td>\n",
       "      <td>0</td>\n",
       "      <td>0.00</td>\n",
       "      <td>...</td>\n",
       "      <td>0.00</td>\n",
       "      <td>0</td>\n",
       "      <td>307</td>\n",
       "      <td>15</td>\n",
       "      <td>20.47</td>\n",
       "      <td>8.90</td>\n",
       "      <td>13.93</td>\n",
       "      <td>2009</td>\n",
       "      <td>50000</td>\n",
       "      <td>50000</td>\n",
       "    </tr>\n",
       "    <tr>\n",
       "      <th>1</th>\n",
       "      <td>2</td>\n",
       "      <td>Abdur Razzak</td>\n",
       "      <td>2</td>\n",
       "      <td>BAN</td>\n",
       "      <td>RCB</td>\n",
       "      <td>Bowler</td>\n",
       "      <td>214</td>\n",
       "      <td>18</td>\n",
       "      <td>657</td>\n",
       "      <td>71.41</td>\n",
       "      <td>...</td>\n",
       "      <td>0.00</td>\n",
       "      <td>0</td>\n",
       "      <td>29</td>\n",
       "      <td>0</td>\n",
       "      <td>0.00</td>\n",
       "      <td>14.50</td>\n",
       "      <td>0.00</td>\n",
       "      <td>2008</td>\n",
       "      <td>50000</td>\n",
       "      <td>50000</td>\n",
       "    </tr>\n",
       "    <tr>\n",
       "      <th>2</th>\n",
       "      <td>3</td>\n",
       "      <td>Agarkar, AB</td>\n",
       "      <td>2</td>\n",
       "      <td>IND</td>\n",
       "      <td>KKR</td>\n",
       "      <td>Bowler</td>\n",
       "      <td>571</td>\n",
       "      <td>58</td>\n",
       "      <td>1269</td>\n",
       "      <td>80.62</td>\n",
       "      <td>...</td>\n",
       "      <td>121.01</td>\n",
       "      <td>5</td>\n",
       "      <td>1059</td>\n",
       "      <td>29</td>\n",
       "      <td>36.52</td>\n",
       "      <td>8.81</td>\n",
       "      <td>24.90</td>\n",
       "      <td>2008</td>\n",
       "      <td>200000</td>\n",
       "      <td>350000</td>\n",
       "    </tr>\n",
       "    <tr>\n",
       "      <th>3</th>\n",
       "      <td>4</td>\n",
       "      <td>Ashwin, R</td>\n",
       "      <td>1</td>\n",
       "      <td>IND</td>\n",
       "      <td>CSK</td>\n",
       "      <td>Bowler</td>\n",
       "      <td>284</td>\n",
       "      <td>31</td>\n",
       "      <td>241</td>\n",
       "      <td>84.56</td>\n",
       "      <td>...</td>\n",
       "      <td>76.32</td>\n",
       "      <td>0</td>\n",
       "      <td>1125</td>\n",
       "      <td>49</td>\n",
       "      <td>22.96</td>\n",
       "      <td>6.23</td>\n",
       "      <td>22.14</td>\n",
       "      <td>2011</td>\n",
       "      <td>100000</td>\n",
       "      <td>850000</td>\n",
       "    </tr>\n",
       "    <tr>\n",
       "      <th>4</th>\n",
       "      <td>5</td>\n",
       "      <td>Badrinath, S</td>\n",
       "      <td>2</td>\n",
       "      <td>IND</td>\n",
       "      <td>CSK</td>\n",
       "      <td>Batsman</td>\n",
       "      <td>63</td>\n",
       "      <td>0</td>\n",
       "      <td>79</td>\n",
       "      <td>45.93</td>\n",
       "      <td>...</td>\n",
       "      <td>120.71</td>\n",
       "      <td>28</td>\n",
       "      <td>0</td>\n",
       "      <td>0</td>\n",
       "      <td>0.00</td>\n",
       "      <td>0.00</td>\n",
       "      <td>0.00</td>\n",
       "      <td>2011</td>\n",
       "      <td>100000</td>\n",
       "      <td>800000</td>\n",
       "    </tr>\n",
       "  </tbody>\n",
       "</table>\n",
       "<p>5 rows × 26 columns</p>\n",
       "</div>"
      ],
      "text/plain": [
       "   Sl.NO.   PLAYER NAME  AGE COUNTRY  TEAM PLAYING ROLE  T-RUNS  T-WKTS  \\\n",
       "0       1   Abdulla, YA    2      SA  KXIP   Allrounder       0       0   \n",
       "1       2  Abdur Razzak    2     BAN   RCB       Bowler     214      18   \n",
       "2       3   Agarkar, AB    2     IND   KKR       Bowler     571      58   \n",
       "3       4     Ashwin, R    1     IND   CSK       Bowler     284      31   \n",
       "4       5  Badrinath, S    2     IND   CSK      Batsman      63       0   \n",
       "\n",
       "   ODI-RUNS-S  ODI-SR-B  ...    SR-B  SIXERS  RUNS-C  WKTS  AVE-BL   ECON  \\\n",
       "0           0      0.00  ...    0.00       0     307    15   20.47   8.90   \n",
       "1         657     71.41  ...    0.00       0      29     0    0.00  14.50   \n",
       "2        1269     80.62  ...  121.01       5    1059    29   36.52   8.81   \n",
       "3         241     84.56  ...   76.32       0    1125    49   22.96   6.23   \n",
       "4          79     45.93  ...  120.71      28       0     0    0.00   0.00   \n",
       "\n",
       "   SR-BL  AUCTION YEAR  BASE PRICE  SOLD PRICE  \n",
       "0  13.93          2009       50000       50000  \n",
       "1   0.00          2008       50000       50000  \n",
       "2  24.90          2008      200000      350000  \n",
       "3  22.14          2011      100000      850000  \n",
       "4   0.00          2011      100000      800000  \n",
       "\n",
       "[5 rows x 26 columns]"
      ]
     },
     "execution_count": 77,
     "metadata": {},
     "output_type": "execute_result"
    }
   ],
   "source": [
    "df_ipl_auction[0:5]"
   ]
  },
  {
   "cell_type": "code",
   "execution_count": 78,
   "id": "8cbded8b-8c32-480d-a133-3186047a5059",
   "metadata": {},
   "outputs": [
    {
     "data": {
      "text/html": [
       "<div>\n",
       "<style scoped>\n",
       "    .dataframe tbody tr th:only-of-type {\n",
       "        vertical-align: middle;\n",
       "    }\n",
       "\n",
       "    .dataframe tbody tr th {\n",
       "        vertical-align: top;\n",
       "    }\n",
       "\n",
       "    .dataframe thead th {\n",
       "        text-align: right;\n",
       "    }\n",
       "</style>\n",
       "<table border=\"1\" class=\"dataframe\">\n",
       "  <thead>\n",
       "    <tr style=\"text-align: right;\">\n",
       "      <th></th>\n",
       "      <th>Sl.NO.</th>\n",
       "      <th>PLAYER NAME</th>\n",
       "      <th>AGE</th>\n",
       "      <th>COUNTRY</th>\n",
       "      <th>TEAM</th>\n",
       "      <th>PLAYING ROLE</th>\n",
       "      <th>T-RUNS</th>\n",
       "      <th>T-WKTS</th>\n",
       "      <th>ODI-RUNS-S</th>\n",
       "      <th>ODI-SR-B</th>\n",
       "      <th>...</th>\n",
       "      <th>SR-B</th>\n",
       "      <th>SIXERS</th>\n",
       "      <th>RUNS-C</th>\n",
       "      <th>WKTS</th>\n",
       "      <th>AVE-BL</th>\n",
       "      <th>ECON</th>\n",
       "      <th>SR-BL</th>\n",
       "      <th>AUCTION YEAR</th>\n",
       "      <th>BASE PRICE</th>\n",
       "      <th>SOLD PRICE</th>\n",
       "    </tr>\n",
       "  </thead>\n",
       "  <tbody>\n",
       "    <tr>\n",
       "      <th>125</th>\n",
       "      <td>126</td>\n",
       "      <td>Yadav, AS</td>\n",
       "      <td>2</td>\n",
       "      <td>IND</td>\n",
       "      <td>DC</td>\n",
       "      <td>Batsman</td>\n",
       "      <td>0</td>\n",
       "      <td>0</td>\n",
       "      <td>0</td>\n",
       "      <td>0.00</td>\n",
       "      <td>...</td>\n",
       "      <td>125.64</td>\n",
       "      <td>2</td>\n",
       "      <td>0</td>\n",
       "      <td>0</td>\n",
       "      <td>0.00</td>\n",
       "      <td>0.00</td>\n",
       "      <td>0.00</td>\n",
       "      <td>2010</td>\n",
       "      <td>50000</td>\n",
       "      <td>750000</td>\n",
       "    </tr>\n",
       "    <tr>\n",
       "      <th>126</th>\n",
       "      <td>127</td>\n",
       "      <td>Younis Khan</td>\n",
       "      <td>2</td>\n",
       "      <td>PAK</td>\n",
       "      <td>RR</td>\n",
       "      <td>Batsman</td>\n",
       "      <td>6398</td>\n",
       "      <td>7</td>\n",
       "      <td>6814</td>\n",
       "      <td>75.78</td>\n",
       "      <td>...</td>\n",
       "      <td>42.85</td>\n",
       "      <td>0</td>\n",
       "      <td>0</td>\n",
       "      <td>0</td>\n",
       "      <td>0.00</td>\n",
       "      <td>0.00</td>\n",
       "      <td>0.00</td>\n",
       "      <td>2008</td>\n",
       "      <td>225000</td>\n",
       "      <td>225000</td>\n",
       "    </tr>\n",
       "    <tr>\n",
       "      <th>127</th>\n",
       "      <td>128</td>\n",
       "      <td>Yuvraj Singh</td>\n",
       "      <td>2</td>\n",
       "      <td>IND</td>\n",
       "      <td>KXIP+</td>\n",
       "      <td>Batsman</td>\n",
       "      <td>1775</td>\n",
       "      <td>9</td>\n",
       "      <td>8051</td>\n",
       "      <td>87.58</td>\n",
       "      <td>...</td>\n",
       "      <td>131.88</td>\n",
       "      <td>67</td>\n",
       "      <td>569</td>\n",
       "      <td>23</td>\n",
       "      <td>24.74</td>\n",
       "      <td>7.02</td>\n",
       "      <td>21.13</td>\n",
       "      <td>2011</td>\n",
       "      <td>400000</td>\n",
       "      <td>1800000</td>\n",
       "    </tr>\n",
       "    <tr>\n",
       "      <th>128</th>\n",
       "      <td>129</td>\n",
       "      <td>Zaheer Khan</td>\n",
       "      <td>2</td>\n",
       "      <td>IND</td>\n",
       "      <td>MI+</td>\n",
       "      <td>Bowler</td>\n",
       "      <td>1114</td>\n",
       "      <td>288</td>\n",
       "      <td>790</td>\n",
       "      <td>73.55</td>\n",
       "      <td>...</td>\n",
       "      <td>91.67</td>\n",
       "      <td>1</td>\n",
       "      <td>1783</td>\n",
       "      <td>65</td>\n",
       "      <td>27.43</td>\n",
       "      <td>7.75</td>\n",
       "      <td>21.26</td>\n",
       "      <td>2008</td>\n",
       "      <td>200000</td>\n",
       "      <td>450000</td>\n",
       "    </tr>\n",
       "    <tr>\n",
       "      <th>129</th>\n",
       "      <td>130</td>\n",
       "      <td>Zoysa, DNT</td>\n",
       "      <td>2</td>\n",
       "      <td>SL</td>\n",
       "      <td>DC</td>\n",
       "      <td>Bowler</td>\n",
       "      <td>288</td>\n",
       "      <td>64</td>\n",
       "      <td>343</td>\n",
       "      <td>95.81</td>\n",
       "      <td>...</td>\n",
       "      <td>122.22</td>\n",
       "      <td>0</td>\n",
       "      <td>99</td>\n",
       "      <td>2</td>\n",
       "      <td>49.50</td>\n",
       "      <td>9.00</td>\n",
       "      <td>33.00</td>\n",
       "      <td>2008</td>\n",
       "      <td>100000</td>\n",
       "      <td>110000</td>\n",
       "    </tr>\n",
       "  </tbody>\n",
       "</table>\n",
       "<p>5 rows × 26 columns</p>\n",
       "</div>"
      ],
      "text/plain": [
       "     Sl.NO.   PLAYER NAME  AGE COUNTRY   TEAM PLAYING ROLE  T-RUNS  T-WKTS  \\\n",
       "125     126     Yadav, AS    2     IND     DC      Batsman       0       0   \n",
       "126     127   Younis Khan    2     PAK     RR      Batsman    6398       7   \n",
       "127     128  Yuvraj Singh    2     IND  KXIP+      Batsman    1775       9   \n",
       "128     129   Zaheer Khan    2     IND    MI+       Bowler    1114     288   \n",
       "129     130    Zoysa, DNT    2      SL     DC       Bowler     288      64   \n",
       "\n",
       "     ODI-RUNS-S  ODI-SR-B  ...    SR-B  SIXERS  RUNS-C  WKTS  AVE-BL  ECON  \\\n",
       "125           0      0.00  ...  125.64       2       0     0    0.00  0.00   \n",
       "126        6814     75.78  ...   42.85       0       0     0    0.00  0.00   \n",
       "127        8051     87.58  ...  131.88      67     569    23   24.74  7.02   \n",
       "128         790     73.55  ...   91.67       1    1783    65   27.43  7.75   \n",
       "129         343     95.81  ...  122.22       0      99     2   49.50  9.00   \n",
       "\n",
       "     SR-BL  AUCTION YEAR  BASE PRICE  SOLD PRICE  \n",
       "125   0.00          2010       50000      750000  \n",
       "126   0.00          2008      225000      225000  \n",
       "127  21.13          2011      400000     1800000  \n",
       "128  21.26          2008      200000      450000  \n",
       "129  33.00          2008      100000      110000  \n",
       "\n",
       "[5 rows x 26 columns]"
      ]
     },
     "execution_count": 78,
     "metadata": {},
     "output_type": "execute_result"
    }
   ],
   "source": [
    "df_ipl_auction[-5:]"
   ]
  },
  {
   "cell_type": "code",
   "execution_count": 79,
   "id": "28b2fe1d-dff0-462e-b531-9c9d40941c95",
   "metadata": {},
   "outputs": [
    {
     "data": {
      "text/plain": [
       "0    2009\n",
       "1    2008\n",
       "2    2008\n",
       "3    2011\n",
       "4    2011\n",
       "Name: AUCTION YEAR, dtype: int64"
      ]
     },
     "execution_count": 79,
     "metadata": {},
     "output_type": "execute_result"
    }
   ],
   "source": [
    "df_ipl_auction['AUCTION YEAR'][0:5]"
   ]
  },
  {
   "cell_type": "code",
   "execution_count": 80,
   "id": "8a5835a6-e016-4904-b8cb-afb57b9405a4",
   "metadata": {},
   "outputs": [
    {
     "data": {
      "text/html": [
       "<div>\n",
       "<style scoped>\n",
       "    .dataframe tbody tr th:only-of-type {\n",
       "        vertical-align: middle;\n",
       "    }\n",
       "\n",
       "    .dataframe tbody tr th {\n",
       "        vertical-align: top;\n",
       "    }\n",
       "\n",
       "    .dataframe thead th {\n",
       "        text-align: right;\n",
       "    }\n",
       "</style>\n",
       "<table border=\"1\" class=\"dataframe\">\n",
       "  <thead>\n",
       "    <tr style=\"text-align: right;\">\n",
       "      <th></th>\n",
       "      <th>PLAYER NAME</th>\n",
       "      <th>AGE</th>\n",
       "    </tr>\n",
       "  </thead>\n",
       "  <tbody>\n",
       "    <tr>\n",
       "      <th>0</th>\n",
       "      <td>Abdulla, YA</td>\n",
       "      <td>2</td>\n",
       "    </tr>\n",
       "    <tr>\n",
       "      <th>1</th>\n",
       "      <td>Abdur Razzak</td>\n",
       "      <td>2</td>\n",
       "    </tr>\n",
       "    <tr>\n",
       "      <th>2</th>\n",
       "      <td>Agarkar, AB</td>\n",
       "      <td>2</td>\n",
       "    </tr>\n",
       "    <tr>\n",
       "      <th>3</th>\n",
       "      <td>Ashwin, R</td>\n",
       "      <td>1</td>\n",
       "    </tr>\n",
       "    <tr>\n",
       "      <th>4</th>\n",
       "      <td>Badrinath, S</td>\n",
       "      <td>2</td>\n",
       "    </tr>\n",
       "  </tbody>\n",
       "</table>\n",
       "</div>"
      ],
      "text/plain": [
       "    PLAYER NAME  AGE\n",
       "0   Abdulla, YA    2\n",
       "1  Abdur Razzak    2\n",
       "2   Agarkar, AB    2\n",
       "3     Ashwin, R    1\n",
       "4  Badrinath, S    2"
      ]
     },
     "execution_count": 80,
     "metadata": {},
     "output_type": "execute_result"
    }
   ],
   "source": [
    "df_ipl_auction[['PLAYER NAME', 'AGE']][0:5]"
   ]
  },
  {
   "cell_type": "code",
   "execution_count": 81,
   "id": "32dba1aa-64be-40e1-8abb-fde8c99d8f5d",
   "metadata": {},
   "outputs": [
    {
     "data": {
      "text/html": [
       "<div>\n",
       "<style scoped>\n",
       "    .dataframe tbody tr th:only-of-type {\n",
       "        vertical-align: middle;\n",
       "    }\n",
       "\n",
       "    .dataframe tbody tr th {\n",
       "        vertical-align: top;\n",
       "    }\n",
       "\n",
       "    .dataframe thead th {\n",
       "        text-align: right;\n",
       "    }\n",
       "</style>\n",
       "<table border=\"1\" class=\"dataframe\">\n",
       "  <thead>\n",
       "    <tr style=\"text-align: right;\">\n",
       "      <th></th>\n",
       "      <th>PLAYER NAME</th>\n",
       "      <th>AGE</th>\n",
       "      <th>COUNTRY</th>\n",
       "    </tr>\n",
       "  </thead>\n",
       "  <tbody>\n",
       "    <tr>\n",
       "      <th>4</th>\n",
       "      <td>Badrinath, S</td>\n",
       "      <td>2</td>\n",
       "      <td>IND</td>\n",
       "    </tr>\n",
       "    <tr>\n",
       "      <th>5</th>\n",
       "      <td>Bailey, GJ</td>\n",
       "      <td>2</td>\n",
       "      <td>AUS</td>\n",
       "    </tr>\n",
       "    <tr>\n",
       "      <th>6</th>\n",
       "      <td>Balaji, L</td>\n",
       "      <td>2</td>\n",
       "      <td>IND</td>\n",
       "    </tr>\n",
       "    <tr>\n",
       "      <th>7</th>\n",
       "      <td>Bollinger, DE</td>\n",
       "      <td>2</td>\n",
       "      <td>AUS</td>\n",
       "    </tr>\n",
       "    <tr>\n",
       "      <th>8</th>\n",
       "      <td>Botha, J</td>\n",
       "      <td>2</td>\n",
       "      <td>SA</td>\n",
       "    </tr>\n",
       "  </tbody>\n",
       "</table>\n",
       "</div>"
      ],
      "text/plain": [
       "     PLAYER NAME  AGE COUNTRY\n",
       "4   Badrinath, S    2     IND\n",
       "5     Bailey, GJ    2     AUS\n",
       "6      Balaji, L    2     IND\n",
       "7  Bollinger, DE    2     AUS\n",
       "8       Botha, J    2      SA"
      ]
     },
     "execution_count": 81,
     "metadata": {},
     "output_type": "execute_result"
    }
   ],
   "source": [
    "df_ipl_auction.iloc[4:9,1:4]"
   ]
  },
  {
   "cell_type": "markdown",
   "id": "57f5f5a4-bf87-41a0-b97b-6d5bf2e6d77d",
   "metadata": {},
   "source": [
    "### Value Counts and Cross Tabulations"
   ]
  },
  {
   "cell_type": "code",
   "execution_count": 82,
   "id": "ee8cb444-2c4b-4d02-9d23-50942d262595",
   "metadata": {},
   "outputs": [
    {
     "data": {
      "text/plain": [
       "COUNTRY\n",
       "IND    53\n",
       "AUS    22\n",
       "SA     16\n",
       "SL     12\n",
       "PAK     9\n",
       "NZ      7\n",
       "WI      6\n",
       "ENG     3\n",
       "BAN     1\n",
       "ZIM     1\n",
       "Name: count, dtype: int64"
      ]
     },
     "execution_count": 82,
     "metadata": {},
     "output_type": "execute_result"
    }
   ],
   "source": [
    "df_ipl_auction['COUNTRY'].value_counts()"
   ]
  },
  {
   "cell_type": "code",
   "execution_count": 83,
   "id": "543a448a-6eda-48d8-8284-79fa7aa9aa98",
   "metadata": {},
   "outputs": [
    {
     "data": {
      "text/plain": [
       "COUNTRY\n",
       "IND    40.769231\n",
       "AUS    16.923077\n",
       "SA     12.307692\n",
       "SL      9.230769\n",
       "PAK     6.923077\n",
       "NZ      5.384615\n",
       "WI      4.615385\n",
       "ENG     2.307692\n",
       "BAN     0.769231\n",
       "ZIM     0.769231\n",
       "Name: proportion, dtype: float64"
      ]
     },
     "execution_count": 83,
     "metadata": {},
     "output_type": "execute_result"
    }
   ],
   "source": [
    "df_ipl_auction['COUNTRY'].value_counts(normalize=True)*100"
   ]
  },
  {
   "cell_type": "code",
   "execution_count": 84,
   "id": "cfd94959-2222-439a-9655-4ebfde8a47cb",
   "metadata": {},
   "outputs": [
    {
     "data": {
      "text/html": [
       "<div>\n",
       "<style scoped>\n",
       "    .dataframe tbody tr th:only-of-type {\n",
       "        vertical-align: middle;\n",
       "    }\n",
       "\n",
       "    .dataframe tbody tr th {\n",
       "        vertical-align: top;\n",
       "    }\n",
       "\n",
       "    .dataframe thead th {\n",
       "        text-align: right;\n",
       "    }\n",
       "</style>\n",
       "<table border=\"1\" class=\"dataframe\">\n",
       "  <thead>\n",
       "    <tr style=\"text-align: right;\">\n",
       "      <th>PLAYING ROLE</th>\n",
       "      <th>Allrounder</th>\n",
       "      <th>Batsman</th>\n",
       "      <th>Bowler</th>\n",
       "      <th>W. Keeper</th>\n",
       "    </tr>\n",
       "    <tr>\n",
       "      <th>AGE</th>\n",
       "      <th></th>\n",
       "      <th></th>\n",
       "      <th></th>\n",
       "      <th></th>\n",
       "    </tr>\n",
       "  </thead>\n",
       "  <tbody>\n",
       "    <tr>\n",
       "      <th>1</th>\n",
       "      <td>4</td>\n",
       "      <td>5</td>\n",
       "      <td>7</td>\n",
       "      <td>0</td>\n",
       "    </tr>\n",
       "    <tr>\n",
       "      <th>2</th>\n",
       "      <td>25</td>\n",
       "      <td>21</td>\n",
       "      <td>29</td>\n",
       "      <td>11</td>\n",
       "    </tr>\n",
       "    <tr>\n",
       "      <th>3</th>\n",
       "      <td>6</td>\n",
       "      <td>13</td>\n",
       "      <td>8</td>\n",
       "      <td>1</td>\n",
       "    </tr>\n",
       "  </tbody>\n",
       "</table>\n",
       "</div>"
      ],
      "text/plain": [
       "PLAYING ROLE  Allrounder  Batsman  Bowler  W. Keeper\n",
       "AGE                                                 \n",
       "1                      4        5       7          0\n",
       "2                     25       21      29         11\n",
       "3                      6       13       8          1"
      ]
     },
     "execution_count": 84,
     "metadata": {},
     "output_type": "execute_result"
    }
   ],
   "source": [
    "pd.crosstab(df_ipl_auction['AGE'], df_ipl_auction['PLAYING ROLE'])"
   ]
  },
  {
   "cell_type": "markdown",
   "id": "0cf8a6cc-109a-4370-98c2-cc907db9e308",
   "metadata": {},
   "source": [
    "### Sorting df by column values"
   ]
  },
  {
   "cell_type": "code",
   "execution_count": 85,
   "id": "f874a5db-86e9-4056-9fa0-563ce85c479e",
   "metadata": {},
   "outputs": [
    {
     "data": {
      "text/html": [
       "<div>\n",
       "<style scoped>\n",
       "    .dataframe tbody tr th:only-of-type {\n",
       "        vertical-align: middle;\n",
       "    }\n",
       "\n",
       "    .dataframe tbody tr th {\n",
       "        vertical-align: top;\n",
       "    }\n",
       "\n",
       "    .dataframe thead th {\n",
       "        text-align: right;\n",
       "    }\n",
       "</style>\n",
       "<table border=\"1\" class=\"dataframe\">\n",
       "  <thead>\n",
       "    <tr style=\"text-align: right;\">\n",
       "      <th></th>\n",
       "      <th>PLAYER NAME</th>\n",
       "      <th>SOLD PRICE</th>\n",
       "    </tr>\n",
       "  </thead>\n",
       "  <tbody>\n",
       "    <tr>\n",
       "      <th>73</th>\n",
       "      <td>Noffke, AA</td>\n",
       "      <td>20000</td>\n",
       "    </tr>\n",
       "    <tr>\n",
       "      <th>46</th>\n",
       "      <td>Kamran Khan</td>\n",
       "      <td>24000</td>\n",
       "    </tr>\n",
       "    <tr>\n",
       "      <th>0</th>\n",
       "      <td>Abdulla, YA</td>\n",
       "      <td>50000</td>\n",
       "    </tr>\n",
       "    <tr>\n",
       "      <th>1</th>\n",
       "      <td>Abdur Razzak</td>\n",
       "      <td>50000</td>\n",
       "    </tr>\n",
       "    <tr>\n",
       "      <th>118</th>\n",
       "      <td>Van der Merwe</td>\n",
       "      <td>50000</td>\n",
       "    </tr>\n",
       "  </tbody>\n",
       "</table>\n",
       "</div>"
      ],
      "text/plain": [
       "       PLAYER NAME  SOLD PRICE\n",
       "73      Noffke, AA       20000\n",
       "46     Kamran Khan       24000\n",
       "0      Abdulla, YA       50000\n",
       "1     Abdur Razzak       50000\n",
       "118  Van der Merwe       50000"
      ]
     },
     "execution_count": 85,
     "metadata": {},
     "output_type": "execute_result"
    }
   ],
   "source": [
    "df_ipl_auction[['PLAYER NAME','SOLD PRICE']].sort_values(by='SOLD PRICE').head()"
   ]
  },
  {
   "cell_type": "code",
   "execution_count": 86,
   "id": "9077393e-d177-4eab-a733-76666fa933fa",
   "metadata": {},
   "outputs": [
    {
     "data": {
      "text/html": [
       "<div>\n",
       "<style scoped>\n",
       "    .dataframe tbody tr th:only-of-type {\n",
       "        vertical-align: middle;\n",
       "    }\n",
       "\n",
       "    .dataframe tbody tr th {\n",
       "        vertical-align: top;\n",
       "    }\n",
       "\n",
       "    .dataframe thead th {\n",
       "        text-align: right;\n",
       "    }\n",
       "</style>\n",
       "<table border=\"1\" class=\"dataframe\">\n",
       "  <thead>\n",
       "    <tr style=\"text-align: right;\">\n",
       "      <th></th>\n",
       "      <th>PLAYER NAME</th>\n",
       "      <th>SOLD PRICE</th>\n",
       "    </tr>\n",
       "  </thead>\n",
       "  <tbody>\n",
       "    <tr>\n",
       "      <th>93</th>\n",
       "      <td>Sehwag, V</td>\n",
       "      <td>1800000</td>\n",
       "    </tr>\n",
       "    <tr>\n",
       "      <th>127</th>\n",
       "      <td>Yuvraj Singh</td>\n",
       "      <td>1800000</td>\n",
       "    </tr>\n",
       "    <tr>\n",
       "      <th>50</th>\n",
       "      <td>Kohli, V</td>\n",
       "      <td>1800000</td>\n",
       "    </tr>\n",
       "    <tr>\n",
       "      <th>111</th>\n",
       "      <td>Tendulkar, SR</td>\n",
       "      <td>1800000</td>\n",
       "    </tr>\n",
       "    <tr>\n",
       "      <th>113</th>\n",
       "      <td>Tiwary, SS</td>\n",
       "      <td>1600000</td>\n",
       "    </tr>\n",
       "  </tbody>\n",
       "</table>\n",
       "</div>"
      ],
      "text/plain": [
       "       PLAYER NAME  SOLD PRICE\n",
       "93       Sehwag, V     1800000\n",
       "127   Yuvraj Singh     1800000\n",
       "50        Kohli, V     1800000\n",
       "111  Tendulkar, SR     1800000\n",
       "113     Tiwary, SS     1600000"
      ]
     },
     "execution_count": 86,
     "metadata": {},
     "output_type": "execute_result"
    }
   ],
   "source": [
    "df_ipl_auction[['PLAYER NAME','SOLD PRICE']].sort_values(by='SOLD PRICE', ascending=False).head()"
   ]
  },
  {
   "cell_type": "markdown",
   "id": "5145322e-a678-4b13-96b1-cb4a41b52be3",
   "metadata": {},
   "source": [
    "### Creating new columns"
   ]
  },
  {
   "cell_type": "code",
   "execution_count": 87,
   "id": "e6530b90-d4d2-40bd-a7b1-a3412a99c595",
   "metadata": {},
   "outputs": [
    {
     "data": {
      "text/plain": [
       "Index(['Sl.NO.', 'PLAYER NAME', 'AGE', 'COUNTRY', 'TEAM', 'PLAYING ROLE',\n",
       "       'T-RUNS', 'T-WKTS', 'ODI-RUNS-S', 'ODI-SR-B', 'ODI-WKTS', 'ODI-SR-BL',\n",
       "       'CAPTAINCY EXP', 'RUNS-S', 'HS', 'AVE', 'SR-B', 'SIXERS', 'RUNS-C',\n",
       "       'WKTS', 'AVE-BL', 'ECON', 'SR-BL', 'AUCTION YEAR', 'BASE PRICE',\n",
       "       'SOLD PRICE'],\n",
       "      dtype='object')"
      ]
     },
     "execution_count": 87,
     "metadata": {},
     "output_type": "execute_result"
    }
   ],
   "source": [
    "df_ipl_auction.columns"
   ]
  },
  {
   "cell_type": "code",
   "execution_count": 88,
   "id": "42481745-d0d3-4ef4-b665-b5c49a3afa7b",
   "metadata": {},
   "outputs": [],
   "source": [
    "df_ipl_auction['Premium'] = df_ipl_auction['SOLD PRICE'] - df_ipl_auction['BASE PRICE']"
   ]
  },
  {
   "cell_type": "code",
   "execution_count": 89,
   "id": "c678f5f0-3c2a-4a92-b06d-a860e2513992",
   "metadata": {},
   "outputs": [
    {
     "data": {
      "text/html": [
       "<div>\n",
       "<style scoped>\n",
       "    .dataframe tbody tr th:only-of-type {\n",
       "        vertical-align: middle;\n",
       "    }\n",
       "\n",
       "    .dataframe tbody tr th {\n",
       "        vertical-align: top;\n",
       "    }\n",
       "\n",
       "    .dataframe thead th {\n",
       "        text-align: right;\n",
       "    }\n",
       "</style>\n",
       "<table border=\"1\" class=\"dataframe\">\n",
       "  <thead>\n",
       "    <tr style=\"text-align: right;\">\n",
       "      <th></th>\n",
       "      <th>Premium</th>\n",
       "      <th>PLAYER NAME</th>\n",
       "    </tr>\n",
       "  </thead>\n",
       "  <tbody>\n",
       "    <tr>\n",
       "      <th>0</th>\n",
       "      <td>0</td>\n",
       "      <td>Abdulla, YA</td>\n",
       "    </tr>\n",
       "    <tr>\n",
       "      <th>1</th>\n",
       "      <td>0</td>\n",
       "      <td>Abdur Razzak</td>\n",
       "    </tr>\n",
       "    <tr>\n",
       "      <th>2</th>\n",
       "      <td>150000</td>\n",
       "      <td>Agarkar, AB</td>\n",
       "    </tr>\n",
       "    <tr>\n",
       "      <th>3</th>\n",
       "      <td>750000</td>\n",
       "      <td>Ashwin, R</td>\n",
       "    </tr>\n",
       "    <tr>\n",
       "      <th>4</th>\n",
       "      <td>700000</td>\n",
       "      <td>Badrinath, S</td>\n",
       "    </tr>\n",
       "  </tbody>\n",
       "</table>\n",
       "</div>"
      ],
      "text/plain": [
       "   Premium   PLAYER NAME\n",
       "0        0   Abdulla, YA\n",
       "1        0  Abdur Razzak\n",
       "2   150000   Agarkar, AB\n",
       "3   750000     Ashwin, R\n",
       "4   700000  Badrinath, S"
      ]
     },
     "execution_count": 89,
     "metadata": {},
     "output_type": "execute_result"
    }
   ],
   "source": [
    "df_ipl_auction[['Premium', 'PLAYER NAME']].head()"
   ]
  },
  {
   "cell_type": "code",
   "execution_count": 90,
   "id": "267a1e8a-6df6-45ca-bd69-addff6c5493a",
   "metadata": {},
   "outputs": [
    {
     "data": {
      "text/html": [
       "<div>\n",
       "<style scoped>\n",
       "    .dataframe tbody tr th:only-of-type {\n",
       "        vertical-align: middle;\n",
       "    }\n",
       "\n",
       "    .dataframe tbody tr th {\n",
       "        vertical-align: top;\n",
       "    }\n",
       "\n",
       "    .dataframe thead th {\n",
       "        text-align: right;\n",
       "    }\n",
       "</style>\n",
       "<table border=\"1\" class=\"dataframe\">\n",
       "  <thead>\n",
       "    <tr style=\"text-align: right;\">\n",
       "      <th></th>\n",
       "      <th>PLAYER NAME</th>\n",
       "      <th>BASE PRICE</th>\n",
       "      <th>SOLD PRICE</th>\n",
       "      <th>Premium</th>\n",
       "    </tr>\n",
       "  </thead>\n",
       "  <tbody>\n",
       "    <tr>\n",
       "      <th>0</th>\n",
       "      <td>Abdulla, YA</td>\n",
       "      <td>50000</td>\n",
       "      <td>50000</td>\n",
       "      <td>0</td>\n",
       "    </tr>\n",
       "    <tr>\n",
       "      <th>40</th>\n",
       "      <td>Jaffer, W</td>\n",
       "      <td>150000</td>\n",
       "      <td>150000</td>\n",
       "      <td>0</td>\n",
       "    </tr>\n",
       "    <tr>\n",
       "      <th>45</th>\n",
       "      <td>Kamran Akmal</td>\n",
       "      <td>150000</td>\n",
       "      <td>150000</td>\n",
       "      <td>0</td>\n",
       "    </tr>\n",
       "    <tr>\n",
       "      <th>49</th>\n",
       "      <td>Katich, SM</td>\n",
       "      <td>200000</td>\n",
       "      <td>200000</td>\n",
       "      <td>0</td>\n",
       "    </tr>\n",
       "    <tr>\n",
       "      <th>58</th>\n",
       "      <td>Mascarenhas, AD</td>\n",
       "      <td>100000</td>\n",
       "      <td>100000</td>\n",
       "      <td>0</td>\n",
       "    </tr>\n",
       "  </tbody>\n",
       "</table>\n",
       "</div>"
      ],
      "text/plain": [
       "        PLAYER NAME  BASE PRICE  SOLD PRICE  Premium\n",
       "0       Abdulla, YA       50000       50000        0\n",
       "40        Jaffer, W      150000      150000        0\n",
       "45     Kamran Akmal      150000      150000        0\n",
       "49       Katich, SM      200000      200000        0\n",
       "58  Mascarenhas, AD      100000      100000        0"
      ]
     },
     "execution_count": 90,
     "metadata": {},
     "output_type": "execute_result"
    }
   ],
   "source": [
    "df_ipl_auction[['PLAYER NAME','BASE PRICE','SOLD PRICE','Premium']].sort_values(by='Premium').head()"
   ]
  },
  {
   "cell_type": "code",
   "execution_count": 91,
   "id": "b0bf7411-a638-4606-a984-1d9b1cb34dbe",
   "metadata": {},
   "outputs": [
    {
     "data": {
      "text/html": [
       "<div>\n",
       "<style scoped>\n",
       "    .dataframe tbody tr th:only-of-type {\n",
       "        vertical-align: middle;\n",
       "    }\n",
       "\n",
       "    .dataframe tbody tr th {\n",
       "        vertical-align: top;\n",
       "    }\n",
       "\n",
       "    .dataframe thead th {\n",
       "        text-align: right;\n",
       "    }\n",
       "</style>\n",
       "<table border=\"1\" class=\"dataframe\">\n",
       "  <thead>\n",
       "    <tr style=\"text-align: right;\">\n",
       "      <th></th>\n",
       "      <th>PLAYER NAME</th>\n",
       "      <th>BASE PRICE</th>\n",
       "      <th>SOLD PRICE</th>\n",
       "      <th>Premium</th>\n",
       "    </tr>\n",
       "  </thead>\n",
       "  <tbody>\n",
       "    <tr>\n",
       "      <th>50</th>\n",
       "      <td>Kohli, V</td>\n",
       "      <td>150000</td>\n",
       "      <td>1800000</td>\n",
       "      <td>1650000</td>\n",
       "    </tr>\n",
       "    <tr>\n",
       "      <th>113</th>\n",
       "      <td>Tiwary, SS</td>\n",
       "      <td>100000</td>\n",
       "      <td>1600000</td>\n",
       "      <td>1500000</td>\n",
       "    </tr>\n",
       "    <tr>\n",
       "      <th>127</th>\n",
       "      <td>Yuvraj Singh</td>\n",
       "      <td>400000</td>\n",
       "      <td>1800000</td>\n",
       "      <td>1400000</td>\n",
       "    </tr>\n",
       "    <tr>\n",
       "      <th>111</th>\n",
       "      <td>Tendulkar, SR</td>\n",
       "      <td>400000</td>\n",
       "      <td>1800000</td>\n",
       "      <td>1400000</td>\n",
       "    </tr>\n",
       "    <tr>\n",
       "      <th>93</th>\n",
       "      <td>Sehwag, V</td>\n",
       "      <td>400000</td>\n",
       "      <td>1800000</td>\n",
       "      <td>1400000</td>\n",
       "    </tr>\n",
       "  </tbody>\n",
       "</table>\n",
       "</div>"
      ],
      "text/plain": [
       "       PLAYER NAME  BASE PRICE  SOLD PRICE  Premium\n",
       "50        Kohli, V      150000     1800000  1650000\n",
       "113     Tiwary, SS      100000     1600000  1500000\n",
       "127   Yuvraj Singh      400000     1800000  1400000\n",
       "111  Tendulkar, SR      400000     1800000  1400000\n",
       "93       Sehwag, V      400000     1800000  1400000"
      ]
     },
     "execution_count": 91,
     "metadata": {},
     "output_type": "execute_result"
    }
   ],
   "source": [
    "df_ipl_auction[['PLAYER NAME','BASE PRICE','SOLD PRICE','Premium']].sort_values(by='Premium', ascending=False).head()"
   ]
  },
  {
   "cell_type": "markdown",
   "id": "33cedba0-5484-448e-a175-7f6dd93d5bef",
   "metadata": {},
   "source": [
    "### Grouping and Aggregating"
   ]
  },
  {
   "cell_type": "code",
   "execution_count": 92,
   "id": "1b431f76-4d0c-42e4-b20e-d839020e7cc6",
   "metadata": {},
   "outputs": [
    {
     "data": {
      "text/plain": [
       "Index(['Sl.NO.', 'PLAYER NAME', 'AGE', 'COUNTRY', 'TEAM', 'PLAYING ROLE',\n",
       "       'T-RUNS', 'T-WKTS', 'ODI-RUNS-S', 'ODI-SR-B', 'ODI-WKTS', 'ODI-SR-BL',\n",
       "       'CAPTAINCY EXP', 'RUNS-S', 'HS', 'AVE', 'SR-B', 'SIXERS', 'RUNS-C',\n",
       "       'WKTS', 'AVE-BL', 'ECON', 'SR-BL', 'AUCTION YEAR', 'BASE PRICE',\n",
       "       'SOLD PRICE', 'Premium'],\n",
       "      dtype='object')"
      ]
     },
     "execution_count": 92,
     "metadata": {},
     "output_type": "execute_result"
    }
   ],
   "source": [
    "df_ipl_auction.columns"
   ]
  },
  {
   "cell_type": "code",
   "execution_count": 93,
   "id": "b78f8caf-be27-4599-b6b0-db84faf56a02",
   "metadata": {},
   "outputs": [
    {
     "data": {
      "text/html": [
       "<div>\n",
       "<style scoped>\n",
       "    .dataframe tbody tr th:only-of-type {\n",
       "        vertical-align: middle;\n",
       "    }\n",
       "\n",
       "    .dataframe tbody tr th {\n",
       "        vertical-align: top;\n",
       "    }\n",
       "\n",
       "    .dataframe thead th {\n",
       "        text-align: right;\n",
       "    }\n",
       "</style>\n",
       "<table border=\"1\" class=\"dataframe\">\n",
       "  <thead>\n",
       "    <tr style=\"text-align: right;\">\n",
       "      <th></th>\n",
       "      <th>AGE</th>\n",
       "      <th>SOLD PRICE</th>\n",
       "    </tr>\n",
       "  </thead>\n",
       "  <tbody>\n",
       "    <tr>\n",
       "      <th>0</th>\n",
       "      <td>1</td>\n",
       "      <td>720250.000000</td>\n",
       "    </tr>\n",
       "    <tr>\n",
       "      <th>1</th>\n",
       "      <td>2</td>\n",
       "      <td>484534.883721</td>\n",
       "    </tr>\n",
       "    <tr>\n",
       "      <th>2</th>\n",
       "      <td>3</td>\n",
       "      <td>520178.571429</td>\n",
       "    </tr>\n",
       "  </tbody>\n",
       "</table>\n",
       "</div>"
      ],
      "text/plain": [
       "   AGE     SOLD PRICE\n",
       "0    1  720250.000000\n",
       "1    2  484534.883721\n",
       "2    3  520178.571429"
      ]
     },
     "execution_count": 93,
     "metadata": {},
     "output_type": "execute_result"
    }
   ],
   "source": [
    "# avg sold price for each age category\n",
    "df_ipl_auction.groupby(by='AGE')['SOLD PRICE'].mean().reset_index()"
   ]
  },
  {
   "cell_type": "code",
   "execution_count": 94,
   "id": "1fb0b82c-e8d1-407d-a3b4-122d878fff03",
   "metadata": {},
   "outputs": [
    {
     "data": {
      "text/html": [
       "<div>\n",
       "<style scoped>\n",
       "    .dataframe tbody tr th:only-of-type {\n",
       "        vertical-align: middle;\n",
       "    }\n",
       "\n",
       "    .dataframe tbody tr th {\n",
       "        vertical-align: top;\n",
       "    }\n",
       "\n",
       "    .dataframe thead th {\n",
       "        text-align: right;\n",
       "    }\n",
       "</style>\n",
       "<table border=\"1\" class=\"dataframe\">\n",
       "  <thead>\n",
       "    <tr style=\"text-align: right;\">\n",
       "      <th></th>\n",
       "      <th>AGE</th>\n",
       "      <th>PLAYING ROLE</th>\n",
       "      <th>SOLD PRICE</th>\n",
       "    </tr>\n",
       "  </thead>\n",
       "  <tbody>\n",
       "    <tr>\n",
       "      <th>0</th>\n",
       "      <td>1</td>\n",
       "      <td>Allrounder</td>\n",
       "      <td>5.875000e+05</td>\n",
       "    </tr>\n",
       "    <tr>\n",
       "      <th>1</th>\n",
       "      <td>1</td>\n",
       "      <td>Batsman</td>\n",
       "      <td>1.110000e+06</td>\n",
       "    </tr>\n",
       "    <tr>\n",
       "      <th>2</th>\n",
       "      <td>1</td>\n",
       "      <td>Bowler</td>\n",
       "      <td>5.177143e+05</td>\n",
       "    </tr>\n",
       "    <tr>\n",
       "      <th>3</th>\n",
       "      <td>2</td>\n",
       "      <td>Allrounder</td>\n",
       "      <td>4.494000e+05</td>\n",
       "    </tr>\n",
       "    <tr>\n",
       "      <th>4</th>\n",
       "      <td>2</td>\n",
       "      <td>Batsman</td>\n",
       "      <td>6.547619e+05</td>\n",
       "    </tr>\n",
       "    <tr>\n",
       "      <th>5</th>\n",
       "      <td>2</td>\n",
       "      <td>Bowler</td>\n",
       "      <td>3.979310e+05</td>\n",
       "    </tr>\n",
       "    <tr>\n",
       "      <th>6</th>\n",
       "      <td>2</td>\n",
       "      <td>W. Keeper</td>\n",
       "      <td>4.677273e+05</td>\n",
       "    </tr>\n",
       "    <tr>\n",
       "      <th>7</th>\n",
       "      <td>3</td>\n",
       "      <td>Allrounder</td>\n",
       "      <td>7.666667e+05</td>\n",
       "    </tr>\n",
       "    <tr>\n",
       "      <th>8</th>\n",
       "      <td>3</td>\n",
       "      <td>Batsman</td>\n",
       "      <td>4.576923e+05</td>\n",
       "    </tr>\n",
       "    <tr>\n",
       "      <th>9</th>\n",
       "      <td>3</td>\n",
       "      <td>Bowler</td>\n",
       "      <td>4.143750e+05</td>\n",
       "    </tr>\n",
       "    <tr>\n",
       "      <th>10</th>\n",
       "      <td>3</td>\n",
       "      <td>W. Keeper</td>\n",
       "      <td>7.000000e+05</td>\n",
       "    </tr>\n",
       "  </tbody>\n",
       "</table>\n",
       "</div>"
      ],
      "text/plain": [
       "    AGE PLAYING ROLE    SOLD PRICE\n",
       "0     1   Allrounder  5.875000e+05\n",
       "1     1      Batsman  1.110000e+06\n",
       "2     1       Bowler  5.177143e+05\n",
       "3     2   Allrounder  4.494000e+05\n",
       "4     2      Batsman  6.547619e+05\n",
       "5     2       Bowler  3.979310e+05\n",
       "6     2    W. Keeper  4.677273e+05\n",
       "7     3   Allrounder  7.666667e+05\n",
       "8     3      Batsman  4.576923e+05\n",
       "9     3       Bowler  4.143750e+05\n",
       "10    3    W. Keeper  7.000000e+05"
      ]
     },
     "execution_count": 94,
     "metadata": {},
     "output_type": "execute_result"
    }
   ],
   "source": [
    "# avg sold price for each age and playing role\n",
    "df_ipl_auction.groupby(by=['AGE','PLAYING ROLE'])['SOLD PRICE'].mean().reset_index()"
   ]
  },
  {
   "cell_type": "markdown",
   "id": "4db5e816-629a-4a2c-8e0d-6ef347b8d8c1",
   "metadata": {},
   "source": [
    "### Joining Dataframes"
   ]
  },
  {
   "cell_type": "code",
   "execution_count": 95,
   "id": "43f45dd1-c57c-47f9-80ff-29bc60ae58b4",
   "metadata": {},
   "outputs": [
    {
     "name": "stdout",
     "output_type": "stream",
     "text": [
      "    AGE PLAYING ROLE    SOLD PRICE\n",
      "0     1   Allrounder  5.875000e+05\n",
      "1     1      Batsman  1.110000e+06\n",
      "2     1       Bowler  5.177143e+05\n",
      "3     2   Allrounder  4.494000e+05\n",
      "4     2      Batsman  6.547619e+05\n",
      "5     2       Bowler  3.979310e+05\n",
      "6     2    W. Keeper  4.677273e+05\n",
      "7     3   Allrounder  7.666667e+05\n",
      "8     3      Batsman  4.576923e+05\n",
      "9     3       Bowler  4.143750e+05\n",
      "10    3    W. Keeper  7.000000e+05\n"
     ]
    }
   ],
   "source": [
    "sold_price_by_age_role = df_ipl_auction.groupby(by=['AGE','PLAYING ROLE'])['SOLD PRICE'].mean().reset_index()\n",
    "print(sold_price_by_age_role)"
   ]
  },
  {
   "cell_type": "code",
   "execution_count": 96,
   "id": "d7dd703c-e70d-4239-b5f0-5b88d3eda3c7",
   "metadata": {},
   "outputs": [
    {
     "name": "stdout",
     "output_type": "stream",
     "text": [
      "    AGE PLAYING ROLE    SOLD PRICE\n",
      "0     1   Allrounder  5.875000e+05\n",
      "1     1      Batsman  1.110000e+06\n",
      "2     1       Bowler  5.177143e+05\n",
      "3     2   Allrounder  4.494000e+05\n",
      "4     2      Batsman  6.547619e+05\n",
      "5     2       Bowler  3.979310e+05\n",
      "6     2    W. Keeper  4.677273e+05\n",
      "7     3   Allrounder  7.666667e+05\n",
      "8     3      Batsman  4.576923e+05\n",
      "9     3       Bowler  4.143750e+05\n",
      "10    3    W. Keeper  7.000000e+05\n"
     ]
    }
   ],
   "source": [
    "sold_price_by_age = df_ipl_auction.groupby(by=['AGE','PLAYING ROLE'])['SOLD PRICE'].mean().reset_index()\n",
    "print(sold_price_by_age)"
   ]
  },
  {
   "cell_type": "code",
   "execution_count": 97,
   "id": "686d9a61-a9e5-4def-bd9f-e48aea9b435f",
   "metadata": {},
   "outputs": [
    {
     "data": {
      "text/html": [
       "<div>\n",
       "<style scoped>\n",
       "    .dataframe tbody tr th:only-of-type {\n",
       "        vertical-align: middle;\n",
       "    }\n",
       "\n",
       "    .dataframe tbody tr th {\n",
       "        vertical-align: top;\n",
       "    }\n",
       "\n",
       "    .dataframe thead th {\n",
       "        text-align: right;\n",
       "    }\n",
       "</style>\n",
       "<table border=\"1\" class=\"dataframe\">\n",
       "  <thead>\n",
       "    <tr style=\"text-align: right;\">\n",
       "      <th></th>\n",
       "      <th>AGE</th>\n",
       "      <th>PLAYING ROLE_x</th>\n",
       "      <th>SOLD PRICE_x</th>\n",
       "      <th>PLAYING ROLE_y</th>\n",
       "      <th>SOLD PRICE_y</th>\n",
       "    </tr>\n",
       "  </thead>\n",
       "  <tbody>\n",
       "    <tr>\n",
       "      <th>0</th>\n",
       "      <td>1</td>\n",
       "      <td>Allrounder</td>\n",
       "      <td>5.875000e+05</td>\n",
       "      <td>Allrounder</td>\n",
       "      <td>5.875000e+05</td>\n",
       "    </tr>\n",
       "    <tr>\n",
       "      <th>1</th>\n",
       "      <td>1</td>\n",
       "      <td>Allrounder</td>\n",
       "      <td>5.875000e+05</td>\n",
       "      <td>Batsman</td>\n",
       "      <td>1.110000e+06</td>\n",
       "    </tr>\n",
       "    <tr>\n",
       "      <th>2</th>\n",
       "      <td>1</td>\n",
       "      <td>Allrounder</td>\n",
       "      <td>5.875000e+05</td>\n",
       "      <td>Bowler</td>\n",
       "      <td>5.177143e+05</td>\n",
       "    </tr>\n",
       "    <tr>\n",
       "      <th>3</th>\n",
       "      <td>1</td>\n",
       "      <td>Batsman</td>\n",
       "      <td>1.110000e+06</td>\n",
       "      <td>Allrounder</td>\n",
       "      <td>5.875000e+05</td>\n",
       "    </tr>\n",
       "    <tr>\n",
       "      <th>4</th>\n",
       "      <td>1</td>\n",
       "      <td>Batsman</td>\n",
       "      <td>1.110000e+06</td>\n",
       "      <td>Batsman</td>\n",
       "      <td>1.110000e+06</td>\n",
       "    </tr>\n",
       "    <tr>\n",
       "      <th>5</th>\n",
       "      <td>1</td>\n",
       "      <td>Batsman</td>\n",
       "      <td>1.110000e+06</td>\n",
       "      <td>Bowler</td>\n",
       "      <td>5.177143e+05</td>\n",
       "    </tr>\n",
       "    <tr>\n",
       "      <th>6</th>\n",
       "      <td>1</td>\n",
       "      <td>Bowler</td>\n",
       "      <td>5.177143e+05</td>\n",
       "      <td>Allrounder</td>\n",
       "      <td>5.875000e+05</td>\n",
       "    </tr>\n",
       "    <tr>\n",
       "      <th>7</th>\n",
       "      <td>1</td>\n",
       "      <td>Bowler</td>\n",
       "      <td>5.177143e+05</td>\n",
       "      <td>Batsman</td>\n",
       "      <td>1.110000e+06</td>\n",
       "    </tr>\n",
       "    <tr>\n",
       "      <th>8</th>\n",
       "      <td>1</td>\n",
       "      <td>Bowler</td>\n",
       "      <td>5.177143e+05</td>\n",
       "      <td>Bowler</td>\n",
       "      <td>5.177143e+05</td>\n",
       "    </tr>\n",
       "    <tr>\n",
       "      <th>9</th>\n",
       "      <td>2</td>\n",
       "      <td>Allrounder</td>\n",
       "      <td>4.494000e+05</td>\n",
       "      <td>Allrounder</td>\n",
       "      <td>4.494000e+05</td>\n",
       "    </tr>\n",
       "    <tr>\n",
       "      <th>10</th>\n",
       "      <td>2</td>\n",
       "      <td>Allrounder</td>\n",
       "      <td>4.494000e+05</td>\n",
       "      <td>Batsman</td>\n",
       "      <td>6.547619e+05</td>\n",
       "    </tr>\n",
       "    <tr>\n",
       "      <th>11</th>\n",
       "      <td>2</td>\n",
       "      <td>Allrounder</td>\n",
       "      <td>4.494000e+05</td>\n",
       "      <td>Bowler</td>\n",
       "      <td>3.979310e+05</td>\n",
       "    </tr>\n",
       "    <tr>\n",
       "      <th>12</th>\n",
       "      <td>2</td>\n",
       "      <td>Allrounder</td>\n",
       "      <td>4.494000e+05</td>\n",
       "      <td>W. Keeper</td>\n",
       "      <td>4.677273e+05</td>\n",
       "    </tr>\n",
       "    <tr>\n",
       "      <th>13</th>\n",
       "      <td>2</td>\n",
       "      <td>Batsman</td>\n",
       "      <td>6.547619e+05</td>\n",
       "      <td>Allrounder</td>\n",
       "      <td>4.494000e+05</td>\n",
       "    </tr>\n",
       "    <tr>\n",
       "      <th>14</th>\n",
       "      <td>2</td>\n",
       "      <td>Batsman</td>\n",
       "      <td>6.547619e+05</td>\n",
       "      <td>Batsman</td>\n",
       "      <td>6.547619e+05</td>\n",
       "    </tr>\n",
       "    <tr>\n",
       "      <th>15</th>\n",
       "      <td>2</td>\n",
       "      <td>Batsman</td>\n",
       "      <td>6.547619e+05</td>\n",
       "      <td>Bowler</td>\n",
       "      <td>3.979310e+05</td>\n",
       "    </tr>\n",
       "    <tr>\n",
       "      <th>16</th>\n",
       "      <td>2</td>\n",
       "      <td>Batsman</td>\n",
       "      <td>6.547619e+05</td>\n",
       "      <td>W. Keeper</td>\n",
       "      <td>4.677273e+05</td>\n",
       "    </tr>\n",
       "    <tr>\n",
       "      <th>17</th>\n",
       "      <td>2</td>\n",
       "      <td>Bowler</td>\n",
       "      <td>3.979310e+05</td>\n",
       "      <td>Allrounder</td>\n",
       "      <td>4.494000e+05</td>\n",
       "    </tr>\n",
       "    <tr>\n",
       "      <th>18</th>\n",
       "      <td>2</td>\n",
       "      <td>Bowler</td>\n",
       "      <td>3.979310e+05</td>\n",
       "      <td>Batsman</td>\n",
       "      <td>6.547619e+05</td>\n",
       "    </tr>\n",
       "    <tr>\n",
       "      <th>19</th>\n",
       "      <td>2</td>\n",
       "      <td>Bowler</td>\n",
       "      <td>3.979310e+05</td>\n",
       "      <td>Bowler</td>\n",
       "      <td>3.979310e+05</td>\n",
       "    </tr>\n",
       "    <tr>\n",
       "      <th>20</th>\n",
       "      <td>2</td>\n",
       "      <td>Bowler</td>\n",
       "      <td>3.979310e+05</td>\n",
       "      <td>W. Keeper</td>\n",
       "      <td>4.677273e+05</td>\n",
       "    </tr>\n",
       "    <tr>\n",
       "      <th>21</th>\n",
       "      <td>2</td>\n",
       "      <td>W. Keeper</td>\n",
       "      <td>4.677273e+05</td>\n",
       "      <td>Allrounder</td>\n",
       "      <td>4.494000e+05</td>\n",
       "    </tr>\n",
       "    <tr>\n",
       "      <th>22</th>\n",
       "      <td>2</td>\n",
       "      <td>W. Keeper</td>\n",
       "      <td>4.677273e+05</td>\n",
       "      <td>Batsman</td>\n",
       "      <td>6.547619e+05</td>\n",
       "    </tr>\n",
       "    <tr>\n",
       "      <th>23</th>\n",
       "      <td>2</td>\n",
       "      <td>W. Keeper</td>\n",
       "      <td>4.677273e+05</td>\n",
       "      <td>Bowler</td>\n",
       "      <td>3.979310e+05</td>\n",
       "    </tr>\n",
       "    <tr>\n",
       "      <th>24</th>\n",
       "      <td>2</td>\n",
       "      <td>W. Keeper</td>\n",
       "      <td>4.677273e+05</td>\n",
       "      <td>W. Keeper</td>\n",
       "      <td>4.677273e+05</td>\n",
       "    </tr>\n",
       "    <tr>\n",
       "      <th>25</th>\n",
       "      <td>3</td>\n",
       "      <td>Allrounder</td>\n",
       "      <td>7.666667e+05</td>\n",
       "      <td>Allrounder</td>\n",
       "      <td>7.666667e+05</td>\n",
       "    </tr>\n",
       "    <tr>\n",
       "      <th>26</th>\n",
       "      <td>3</td>\n",
       "      <td>Allrounder</td>\n",
       "      <td>7.666667e+05</td>\n",
       "      <td>Batsman</td>\n",
       "      <td>4.576923e+05</td>\n",
       "    </tr>\n",
       "    <tr>\n",
       "      <th>27</th>\n",
       "      <td>3</td>\n",
       "      <td>Allrounder</td>\n",
       "      <td>7.666667e+05</td>\n",
       "      <td>Bowler</td>\n",
       "      <td>4.143750e+05</td>\n",
       "    </tr>\n",
       "    <tr>\n",
       "      <th>28</th>\n",
       "      <td>3</td>\n",
       "      <td>Allrounder</td>\n",
       "      <td>7.666667e+05</td>\n",
       "      <td>W. Keeper</td>\n",
       "      <td>7.000000e+05</td>\n",
       "    </tr>\n",
       "    <tr>\n",
       "      <th>29</th>\n",
       "      <td>3</td>\n",
       "      <td>Batsman</td>\n",
       "      <td>4.576923e+05</td>\n",
       "      <td>Allrounder</td>\n",
       "      <td>7.666667e+05</td>\n",
       "    </tr>\n",
       "    <tr>\n",
       "      <th>30</th>\n",
       "      <td>3</td>\n",
       "      <td>Batsman</td>\n",
       "      <td>4.576923e+05</td>\n",
       "      <td>Batsman</td>\n",
       "      <td>4.576923e+05</td>\n",
       "    </tr>\n",
       "    <tr>\n",
       "      <th>31</th>\n",
       "      <td>3</td>\n",
       "      <td>Batsman</td>\n",
       "      <td>4.576923e+05</td>\n",
       "      <td>Bowler</td>\n",
       "      <td>4.143750e+05</td>\n",
       "    </tr>\n",
       "    <tr>\n",
       "      <th>32</th>\n",
       "      <td>3</td>\n",
       "      <td>Batsman</td>\n",
       "      <td>4.576923e+05</td>\n",
       "      <td>W. Keeper</td>\n",
       "      <td>7.000000e+05</td>\n",
       "    </tr>\n",
       "    <tr>\n",
       "      <th>33</th>\n",
       "      <td>3</td>\n",
       "      <td>Bowler</td>\n",
       "      <td>4.143750e+05</td>\n",
       "      <td>Allrounder</td>\n",
       "      <td>7.666667e+05</td>\n",
       "    </tr>\n",
       "    <tr>\n",
       "      <th>34</th>\n",
       "      <td>3</td>\n",
       "      <td>Bowler</td>\n",
       "      <td>4.143750e+05</td>\n",
       "      <td>Batsman</td>\n",
       "      <td>4.576923e+05</td>\n",
       "    </tr>\n",
       "    <tr>\n",
       "      <th>35</th>\n",
       "      <td>3</td>\n",
       "      <td>Bowler</td>\n",
       "      <td>4.143750e+05</td>\n",
       "      <td>Bowler</td>\n",
       "      <td>4.143750e+05</td>\n",
       "    </tr>\n",
       "    <tr>\n",
       "      <th>36</th>\n",
       "      <td>3</td>\n",
       "      <td>Bowler</td>\n",
       "      <td>4.143750e+05</td>\n",
       "      <td>W. Keeper</td>\n",
       "      <td>7.000000e+05</td>\n",
       "    </tr>\n",
       "    <tr>\n",
       "      <th>37</th>\n",
       "      <td>3</td>\n",
       "      <td>W. Keeper</td>\n",
       "      <td>7.000000e+05</td>\n",
       "      <td>Allrounder</td>\n",
       "      <td>7.666667e+05</td>\n",
       "    </tr>\n",
       "    <tr>\n",
       "      <th>38</th>\n",
       "      <td>3</td>\n",
       "      <td>W. Keeper</td>\n",
       "      <td>7.000000e+05</td>\n",
       "      <td>Batsman</td>\n",
       "      <td>4.576923e+05</td>\n",
       "    </tr>\n",
       "    <tr>\n",
       "      <th>39</th>\n",
       "      <td>3</td>\n",
       "      <td>W. Keeper</td>\n",
       "      <td>7.000000e+05</td>\n",
       "      <td>Bowler</td>\n",
       "      <td>4.143750e+05</td>\n",
       "    </tr>\n",
       "    <tr>\n",
       "      <th>40</th>\n",
       "      <td>3</td>\n",
       "      <td>W. Keeper</td>\n",
       "      <td>7.000000e+05</td>\n",
       "      <td>W. Keeper</td>\n",
       "      <td>7.000000e+05</td>\n",
       "    </tr>\n",
       "  </tbody>\n",
       "</table>\n",
       "</div>"
      ],
      "text/plain": [
       "    AGE PLAYING ROLE_x  SOLD PRICE_x PLAYING ROLE_y  SOLD PRICE_y\n",
       "0     1     Allrounder  5.875000e+05     Allrounder  5.875000e+05\n",
       "1     1     Allrounder  5.875000e+05        Batsman  1.110000e+06\n",
       "2     1     Allrounder  5.875000e+05         Bowler  5.177143e+05\n",
       "3     1        Batsman  1.110000e+06     Allrounder  5.875000e+05\n",
       "4     1        Batsman  1.110000e+06        Batsman  1.110000e+06\n",
       "5     1        Batsman  1.110000e+06         Bowler  5.177143e+05\n",
       "6     1         Bowler  5.177143e+05     Allrounder  5.875000e+05\n",
       "7     1         Bowler  5.177143e+05        Batsman  1.110000e+06\n",
       "8     1         Bowler  5.177143e+05         Bowler  5.177143e+05\n",
       "9     2     Allrounder  4.494000e+05     Allrounder  4.494000e+05\n",
       "10    2     Allrounder  4.494000e+05        Batsman  6.547619e+05\n",
       "11    2     Allrounder  4.494000e+05         Bowler  3.979310e+05\n",
       "12    2     Allrounder  4.494000e+05      W. Keeper  4.677273e+05\n",
       "13    2        Batsman  6.547619e+05     Allrounder  4.494000e+05\n",
       "14    2        Batsman  6.547619e+05        Batsman  6.547619e+05\n",
       "15    2        Batsman  6.547619e+05         Bowler  3.979310e+05\n",
       "16    2        Batsman  6.547619e+05      W. Keeper  4.677273e+05\n",
       "17    2         Bowler  3.979310e+05     Allrounder  4.494000e+05\n",
       "18    2         Bowler  3.979310e+05        Batsman  6.547619e+05\n",
       "19    2         Bowler  3.979310e+05         Bowler  3.979310e+05\n",
       "20    2         Bowler  3.979310e+05      W. Keeper  4.677273e+05\n",
       "21    2      W. Keeper  4.677273e+05     Allrounder  4.494000e+05\n",
       "22    2      W. Keeper  4.677273e+05        Batsman  6.547619e+05\n",
       "23    2      W. Keeper  4.677273e+05         Bowler  3.979310e+05\n",
       "24    2      W. Keeper  4.677273e+05      W. Keeper  4.677273e+05\n",
       "25    3     Allrounder  7.666667e+05     Allrounder  7.666667e+05\n",
       "26    3     Allrounder  7.666667e+05        Batsman  4.576923e+05\n",
       "27    3     Allrounder  7.666667e+05         Bowler  4.143750e+05\n",
       "28    3     Allrounder  7.666667e+05      W. Keeper  7.000000e+05\n",
       "29    3        Batsman  4.576923e+05     Allrounder  7.666667e+05\n",
       "30    3        Batsman  4.576923e+05        Batsman  4.576923e+05\n",
       "31    3        Batsman  4.576923e+05         Bowler  4.143750e+05\n",
       "32    3        Batsman  4.576923e+05      W. Keeper  7.000000e+05\n",
       "33    3         Bowler  4.143750e+05     Allrounder  7.666667e+05\n",
       "34    3         Bowler  4.143750e+05        Batsman  4.576923e+05\n",
       "35    3         Bowler  4.143750e+05         Bowler  4.143750e+05\n",
       "36    3         Bowler  4.143750e+05      W. Keeper  7.000000e+05\n",
       "37    3      W. Keeper  7.000000e+05     Allrounder  7.666667e+05\n",
       "38    3      W. Keeper  7.000000e+05        Batsman  4.576923e+05\n",
       "39    3      W. Keeper  7.000000e+05         Bowler  4.143750e+05\n",
       "40    3      W. Keeper  7.000000e+05      W. Keeper  7.000000e+05"
      ]
     },
     "execution_count": 97,
     "metadata": {},
     "output_type": "execute_result"
    }
   ],
   "source": [
    "soldprice_comparison = sold_price_by_age_role.merge(sold_price_by_age, on='AGE',how='outer')\n",
    "soldprice_comparison"
   ]
  },
  {
   "cell_type": "markdown",
   "id": "62bae2b6-e2d7-4e5a-bfc9-fc81045e2a9f",
   "metadata": {},
   "source": [
    "### Renaming Columns"
   ]
  },
  {
   "cell_type": "code",
   "execution_count": 98,
   "id": "1b758072-c888-4d49-9f16-d2b7c8590b1d",
   "metadata": {},
   "outputs": [],
   "source": [
    "soldprice_comparison.rename(columns={'SOLD PRICE_x':'SOLD_PRICE_AGE_ROLE','SOLD PRICE_y':'SOLD_PRICE_AGE'}, inplace=True)"
   ]
  },
  {
   "cell_type": "code",
   "execution_count": 99,
   "id": "3946b11b-4b61-42ff-9618-c95e8115a241",
   "metadata": {},
   "outputs": [
    {
     "data": {
      "text/html": [
       "<div>\n",
       "<style scoped>\n",
       "    .dataframe tbody tr th:only-of-type {\n",
       "        vertical-align: middle;\n",
       "    }\n",
       "\n",
       "    .dataframe tbody tr th {\n",
       "        vertical-align: top;\n",
       "    }\n",
       "\n",
       "    .dataframe thead th {\n",
       "        text-align: right;\n",
       "    }\n",
       "</style>\n",
       "<table border=\"1\" class=\"dataframe\">\n",
       "  <thead>\n",
       "    <tr style=\"text-align: right;\">\n",
       "      <th></th>\n",
       "      <th>AGE</th>\n",
       "      <th>PLAYING ROLE_x</th>\n",
       "      <th>SOLD_PRICE_AGE_ROLE</th>\n",
       "      <th>PLAYING ROLE_y</th>\n",
       "      <th>SOLD_PRICE_AGE</th>\n",
       "    </tr>\n",
       "  </thead>\n",
       "  <tbody>\n",
       "    <tr>\n",
       "      <th>0</th>\n",
       "      <td>1</td>\n",
       "      <td>Allrounder</td>\n",
       "      <td>587500.0</td>\n",
       "      <td>Allrounder</td>\n",
       "      <td>5.875000e+05</td>\n",
       "    </tr>\n",
       "    <tr>\n",
       "      <th>1</th>\n",
       "      <td>1</td>\n",
       "      <td>Allrounder</td>\n",
       "      <td>587500.0</td>\n",
       "      <td>Batsman</td>\n",
       "      <td>1.110000e+06</td>\n",
       "    </tr>\n",
       "    <tr>\n",
       "      <th>2</th>\n",
       "      <td>1</td>\n",
       "      <td>Allrounder</td>\n",
       "      <td>587500.0</td>\n",
       "      <td>Bowler</td>\n",
       "      <td>5.177143e+05</td>\n",
       "    </tr>\n",
       "    <tr>\n",
       "      <th>3</th>\n",
       "      <td>1</td>\n",
       "      <td>Batsman</td>\n",
       "      <td>1110000.0</td>\n",
       "      <td>Allrounder</td>\n",
       "      <td>5.875000e+05</td>\n",
       "    </tr>\n",
       "    <tr>\n",
       "      <th>4</th>\n",
       "      <td>1</td>\n",
       "      <td>Batsman</td>\n",
       "      <td>1110000.0</td>\n",
       "      <td>Batsman</td>\n",
       "      <td>1.110000e+06</td>\n",
       "    </tr>\n",
       "  </tbody>\n",
       "</table>\n",
       "</div>"
      ],
      "text/plain": [
       "   AGE PLAYING ROLE_x  SOLD_PRICE_AGE_ROLE PLAYING ROLE_y  SOLD_PRICE_AGE\n",
       "0    1     Allrounder             587500.0     Allrounder    5.875000e+05\n",
       "1    1     Allrounder             587500.0        Batsman    1.110000e+06\n",
       "2    1     Allrounder             587500.0         Bowler    5.177143e+05\n",
       "3    1        Batsman            1110000.0     Allrounder    5.875000e+05\n",
       "4    1        Batsman            1110000.0        Batsman    1.110000e+06"
      ]
     },
     "execution_count": 99,
     "metadata": {},
     "output_type": "execute_result"
    }
   ],
   "source": [
    "soldprice_comparison.head()"
   ]
  },
  {
   "cell_type": "markdown",
   "id": "3d82a2ca-072d-42fa-bf57-01d2200f4c88",
   "metadata": {},
   "source": [
    "### Applying operations to Multiple Columns"
   ]
  },
  {
   "cell_type": "code",
   "execution_count": 100,
   "id": "a79e8793-a261-4708-a5cd-eb9ff7c35820",
   "metadata": {},
   "outputs": [],
   "source": [
    "soldprice_comparison['change'] = soldprice_comparison.apply(\n",
    "    lambda rec:(rec.SOLD_PRICE_AGE_ROLE - rec.SOLD_PRICE_AGE)/rec.SOLD_PRICE_AGE, axis=1\n",
    ")"
   ]
  },
  {
   "cell_type": "code",
   "execution_count": 101,
   "id": "418cdcac-3a31-4691-8dce-cd682945a596",
   "metadata": {},
   "outputs": [
    {
     "data": {
      "text/html": [
       "<div>\n",
       "<style scoped>\n",
       "    .dataframe tbody tr th:only-of-type {\n",
       "        vertical-align: middle;\n",
       "    }\n",
       "\n",
       "    .dataframe tbody tr th {\n",
       "        vertical-align: top;\n",
       "    }\n",
       "\n",
       "    .dataframe thead th {\n",
       "        text-align: right;\n",
       "    }\n",
       "</style>\n",
       "<table border=\"1\" class=\"dataframe\">\n",
       "  <thead>\n",
       "    <tr style=\"text-align: right;\">\n",
       "      <th></th>\n",
       "      <th>AGE</th>\n",
       "      <th>PLAYING ROLE_x</th>\n",
       "      <th>SOLD_PRICE_AGE_ROLE</th>\n",
       "      <th>PLAYING ROLE_y</th>\n",
       "      <th>SOLD_PRICE_AGE</th>\n",
       "      <th>change</th>\n",
       "    </tr>\n",
       "  </thead>\n",
       "  <tbody>\n",
       "    <tr>\n",
       "      <th>0</th>\n",
       "      <td>1</td>\n",
       "      <td>Allrounder</td>\n",
       "      <td>5.875000e+05</td>\n",
       "      <td>Allrounder</td>\n",
       "      <td>5.875000e+05</td>\n",
       "      <td>0.000000</td>\n",
       "    </tr>\n",
       "    <tr>\n",
       "      <th>1</th>\n",
       "      <td>1</td>\n",
       "      <td>Allrounder</td>\n",
       "      <td>5.875000e+05</td>\n",
       "      <td>Batsman</td>\n",
       "      <td>1.110000e+06</td>\n",
       "      <td>-0.470721</td>\n",
       "    </tr>\n",
       "    <tr>\n",
       "      <th>2</th>\n",
       "      <td>1</td>\n",
       "      <td>Allrounder</td>\n",
       "      <td>5.875000e+05</td>\n",
       "      <td>Bowler</td>\n",
       "      <td>5.177143e+05</td>\n",
       "      <td>0.134796</td>\n",
       "    </tr>\n",
       "    <tr>\n",
       "      <th>3</th>\n",
       "      <td>1</td>\n",
       "      <td>Batsman</td>\n",
       "      <td>1.110000e+06</td>\n",
       "      <td>Allrounder</td>\n",
       "      <td>5.875000e+05</td>\n",
       "      <td>0.889362</td>\n",
       "    </tr>\n",
       "    <tr>\n",
       "      <th>4</th>\n",
       "      <td>1</td>\n",
       "      <td>Batsman</td>\n",
       "      <td>1.110000e+06</td>\n",
       "      <td>Batsman</td>\n",
       "      <td>1.110000e+06</td>\n",
       "      <td>0.000000</td>\n",
       "    </tr>\n",
       "    <tr>\n",
       "      <th>5</th>\n",
       "      <td>1</td>\n",
       "      <td>Batsman</td>\n",
       "      <td>1.110000e+06</td>\n",
       "      <td>Bowler</td>\n",
       "      <td>5.177143e+05</td>\n",
       "      <td>1.144040</td>\n",
       "    </tr>\n",
       "    <tr>\n",
       "      <th>6</th>\n",
       "      <td>1</td>\n",
       "      <td>Bowler</td>\n",
       "      <td>5.177143e+05</td>\n",
       "      <td>Allrounder</td>\n",
       "      <td>5.875000e+05</td>\n",
       "      <td>-0.118784</td>\n",
       "    </tr>\n",
       "    <tr>\n",
       "      <th>7</th>\n",
       "      <td>1</td>\n",
       "      <td>Bowler</td>\n",
       "      <td>5.177143e+05</td>\n",
       "      <td>Batsman</td>\n",
       "      <td>1.110000e+06</td>\n",
       "      <td>-0.533591</td>\n",
       "    </tr>\n",
       "    <tr>\n",
       "      <th>8</th>\n",
       "      <td>1</td>\n",
       "      <td>Bowler</td>\n",
       "      <td>5.177143e+05</td>\n",
       "      <td>Bowler</td>\n",
       "      <td>5.177143e+05</td>\n",
       "      <td>0.000000</td>\n",
       "    </tr>\n",
       "    <tr>\n",
       "      <th>9</th>\n",
       "      <td>2</td>\n",
       "      <td>Allrounder</td>\n",
       "      <td>4.494000e+05</td>\n",
       "      <td>Allrounder</td>\n",
       "      <td>4.494000e+05</td>\n",
       "      <td>0.000000</td>\n",
       "    </tr>\n",
       "    <tr>\n",
       "      <th>10</th>\n",
       "      <td>2</td>\n",
       "      <td>Allrounder</td>\n",
       "      <td>4.494000e+05</td>\n",
       "      <td>Batsman</td>\n",
       "      <td>6.547619e+05</td>\n",
       "      <td>-0.313644</td>\n",
       "    </tr>\n",
       "    <tr>\n",
       "      <th>11</th>\n",
       "      <td>2</td>\n",
       "      <td>Allrounder</td>\n",
       "      <td>4.494000e+05</td>\n",
       "      <td>Bowler</td>\n",
       "      <td>3.979310e+05</td>\n",
       "      <td>0.129341</td>\n",
       "    </tr>\n",
       "    <tr>\n",
       "      <th>12</th>\n",
       "      <td>2</td>\n",
       "      <td>Allrounder</td>\n",
       "      <td>4.494000e+05</td>\n",
       "      <td>W. Keeper</td>\n",
       "      <td>4.677273e+05</td>\n",
       "      <td>-0.039184</td>\n",
       "    </tr>\n",
       "    <tr>\n",
       "      <th>13</th>\n",
       "      <td>2</td>\n",
       "      <td>Batsman</td>\n",
       "      <td>6.547619e+05</td>\n",
       "      <td>Allrounder</td>\n",
       "      <td>4.494000e+05</td>\n",
       "      <td>0.456969</td>\n",
       "    </tr>\n",
       "    <tr>\n",
       "      <th>14</th>\n",
       "      <td>2</td>\n",
       "      <td>Batsman</td>\n",
       "      <td>6.547619e+05</td>\n",
       "      <td>Batsman</td>\n",
       "      <td>6.547619e+05</td>\n",
       "      <td>0.000000</td>\n",
       "    </tr>\n",
       "    <tr>\n",
       "      <th>15</th>\n",
       "      <td>2</td>\n",
       "      <td>Batsman</td>\n",
       "      <td>6.547619e+05</td>\n",
       "      <td>Bowler</td>\n",
       "      <td>3.979310e+05</td>\n",
       "      <td>0.645416</td>\n",
       "    </tr>\n",
       "    <tr>\n",
       "      <th>16</th>\n",
       "      <td>2</td>\n",
       "      <td>Batsman</td>\n",
       "      <td>6.547619e+05</td>\n",
       "      <td>W. Keeper</td>\n",
       "      <td>4.677273e+05</td>\n",
       "      <td>0.399880</td>\n",
       "    </tr>\n",
       "    <tr>\n",
       "      <th>17</th>\n",
       "      <td>2</td>\n",
       "      <td>Bowler</td>\n",
       "      <td>3.979310e+05</td>\n",
       "      <td>Allrounder</td>\n",
       "      <td>4.494000e+05</td>\n",
       "      <td>-0.114528</td>\n",
       "    </tr>\n",
       "    <tr>\n",
       "      <th>18</th>\n",
       "      <td>2</td>\n",
       "      <td>Bowler</td>\n",
       "      <td>3.979310e+05</td>\n",
       "      <td>Batsman</td>\n",
       "      <td>6.547619e+05</td>\n",
       "      <td>-0.392251</td>\n",
       "    </tr>\n",
       "    <tr>\n",
       "      <th>19</th>\n",
       "      <td>2</td>\n",
       "      <td>Bowler</td>\n",
       "      <td>3.979310e+05</td>\n",
       "      <td>Bowler</td>\n",
       "      <td>3.979310e+05</td>\n",
       "      <td>0.000000</td>\n",
       "    </tr>\n",
       "    <tr>\n",
       "      <th>20</th>\n",
       "      <td>2</td>\n",
       "      <td>Bowler</td>\n",
       "      <td>3.979310e+05</td>\n",
       "      <td>W. Keeper</td>\n",
       "      <td>4.677273e+05</td>\n",
       "      <td>-0.149224</td>\n",
       "    </tr>\n",
       "    <tr>\n",
       "      <th>21</th>\n",
       "      <td>2</td>\n",
       "      <td>W. Keeper</td>\n",
       "      <td>4.677273e+05</td>\n",
       "      <td>Allrounder</td>\n",
       "      <td>4.494000e+05</td>\n",
       "      <td>0.040782</td>\n",
       "    </tr>\n",
       "    <tr>\n",
       "      <th>22</th>\n",
       "      <td>2</td>\n",
       "      <td>W. Keeper</td>\n",
       "      <td>4.677273e+05</td>\n",
       "      <td>Batsman</td>\n",
       "      <td>6.547619e+05</td>\n",
       "      <td>-0.285653</td>\n",
       "    </tr>\n",
       "    <tr>\n",
       "      <th>23</th>\n",
       "      <td>2</td>\n",
       "      <td>W. Keeper</td>\n",
       "      <td>4.677273e+05</td>\n",
       "      <td>Bowler</td>\n",
       "      <td>3.979310e+05</td>\n",
       "      <td>0.175398</td>\n",
       "    </tr>\n",
       "    <tr>\n",
       "      <th>24</th>\n",
       "      <td>2</td>\n",
       "      <td>W. Keeper</td>\n",
       "      <td>4.677273e+05</td>\n",
       "      <td>W. Keeper</td>\n",
       "      <td>4.677273e+05</td>\n",
       "      <td>0.000000</td>\n",
       "    </tr>\n",
       "    <tr>\n",
       "      <th>25</th>\n",
       "      <td>3</td>\n",
       "      <td>Allrounder</td>\n",
       "      <td>7.666667e+05</td>\n",
       "      <td>Allrounder</td>\n",
       "      <td>7.666667e+05</td>\n",
       "      <td>0.000000</td>\n",
       "    </tr>\n",
       "    <tr>\n",
       "      <th>26</th>\n",
       "      <td>3</td>\n",
       "      <td>Allrounder</td>\n",
       "      <td>7.666667e+05</td>\n",
       "      <td>Batsman</td>\n",
       "      <td>4.576923e+05</td>\n",
       "      <td>0.675070</td>\n",
       "    </tr>\n",
       "    <tr>\n",
       "      <th>27</th>\n",
       "      <td>3</td>\n",
       "      <td>Allrounder</td>\n",
       "      <td>7.666667e+05</td>\n",
       "      <td>Bowler</td>\n",
       "      <td>4.143750e+05</td>\n",
       "      <td>0.850176</td>\n",
       "    </tr>\n",
       "    <tr>\n",
       "      <th>28</th>\n",
       "      <td>3</td>\n",
       "      <td>Allrounder</td>\n",
       "      <td>7.666667e+05</td>\n",
       "      <td>W. Keeper</td>\n",
       "      <td>7.000000e+05</td>\n",
       "      <td>0.095238</td>\n",
       "    </tr>\n",
       "    <tr>\n",
       "      <th>29</th>\n",
       "      <td>3</td>\n",
       "      <td>Batsman</td>\n",
       "      <td>4.576923e+05</td>\n",
       "      <td>Allrounder</td>\n",
       "      <td>7.666667e+05</td>\n",
       "      <td>-0.403010</td>\n",
       "    </tr>\n",
       "    <tr>\n",
       "      <th>30</th>\n",
       "      <td>3</td>\n",
       "      <td>Batsman</td>\n",
       "      <td>4.576923e+05</td>\n",
       "      <td>Batsman</td>\n",
       "      <td>4.576923e+05</td>\n",
       "      <td>0.000000</td>\n",
       "    </tr>\n",
       "    <tr>\n",
       "      <th>31</th>\n",
       "      <td>3</td>\n",
       "      <td>Batsman</td>\n",
       "      <td>4.576923e+05</td>\n",
       "      <td>Bowler</td>\n",
       "      <td>4.143750e+05</td>\n",
       "      <td>0.104536</td>\n",
       "    </tr>\n",
       "    <tr>\n",
       "      <th>32</th>\n",
       "      <td>3</td>\n",
       "      <td>Batsman</td>\n",
       "      <td>4.576923e+05</td>\n",
       "      <td>W. Keeper</td>\n",
       "      <td>7.000000e+05</td>\n",
       "      <td>-0.346154</td>\n",
       "    </tr>\n",
       "    <tr>\n",
       "      <th>33</th>\n",
       "      <td>3</td>\n",
       "      <td>Bowler</td>\n",
       "      <td>4.143750e+05</td>\n",
       "      <td>Allrounder</td>\n",
       "      <td>7.666667e+05</td>\n",
       "      <td>-0.459511</td>\n",
       "    </tr>\n",
       "    <tr>\n",
       "      <th>34</th>\n",
       "      <td>3</td>\n",
       "      <td>Bowler</td>\n",
       "      <td>4.143750e+05</td>\n",
       "      <td>Batsman</td>\n",
       "      <td>4.576923e+05</td>\n",
       "      <td>-0.094643</td>\n",
       "    </tr>\n",
       "    <tr>\n",
       "      <th>35</th>\n",
       "      <td>3</td>\n",
       "      <td>Bowler</td>\n",
       "      <td>4.143750e+05</td>\n",
       "      <td>Bowler</td>\n",
       "      <td>4.143750e+05</td>\n",
       "      <td>0.000000</td>\n",
       "    </tr>\n",
       "    <tr>\n",
       "      <th>36</th>\n",
       "      <td>3</td>\n",
       "      <td>Bowler</td>\n",
       "      <td>4.143750e+05</td>\n",
       "      <td>W. Keeper</td>\n",
       "      <td>7.000000e+05</td>\n",
       "      <td>-0.408036</td>\n",
       "    </tr>\n",
       "    <tr>\n",
       "      <th>37</th>\n",
       "      <td>3</td>\n",
       "      <td>W. Keeper</td>\n",
       "      <td>7.000000e+05</td>\n",
       "      <td>Allrounder</td>\n",
       "      <td>7.666667e+05</td>\n",
       "      <td>-0.086957</td>\n",
       "    </tr>\n",
       "    <tr>\n",
       "      <th>38</th>\n",
       "      <td>3</td>\n",
       "      <td>W. Keeper</td>\n",
       "      <td>7.000000e+05</td>\n",
       "      <td>Batsman</td>\n",
       "      <td>4.576923e+05</td>\n",
       "      <td>0.529412</td>\n",
       "    </tr>\n",
       "    <tr>\n",
       "      <th>39</th>\n",
       "      <td>3</td>\n",
       "      <td>W. Keeper</td>\n",
       "      <td>7.000000e+05</td>\n",
       "      <td>Bowler</td>\n",
       "      <td>4.143750e+05</td>\n",
       "      <td>0.689291</td>\n",
       "    </tr>\n",
       "    <tr>\n",
       "      <th>40</th>\n",
       "      <td>3</td>\n",
       "      <td>W. Keeper</td>\n",
       "      <td>7.000000e+05</td>\n",
       "      <td>W. Keeper</td>\n",
       "      <td>7.000000e+05</td>\n",
       "      <td>0.000000</td>\n",
       "    </tr>\n",
       "  </tbody>\n",
       "</table>\n",
       "</div>"
      ],
      "text/plain": [
       "    AGE PLAYING ROLE_x  SOLD_PRICE_AGE_ROLE PLAYING ROLE_y  SOLD_PRICE_AGE  \\\n",
       "0     1     Allrounder         5.875000e+05     Allrounder    5.875000e+05   \n",
       "1     1     Allrounder         5.875000e+05        Batsman    1.110000e+06   \n",
       "2     1     Allrounder         5.875000e+05         Bowler    5.177143e+05   \n",
       "3     1        Batsman         1.110000e+06     Allrounder    5.875000e+05   \n",
       "4     1        Batsman         1.110000e+06        Batsman    1.110000e+06   \n",
       "5     1        Batsman         1.110000e+06         Bowler    5.177143e+05   \n",
       "6     1         Bowler         5.177143e+05     Allrounder    5.875000e+05   \n",
       "7     1         Bowler         5.177143e+05        Batsman    1.110000e+06   \n",
       "8     1         Bowler         5.177143e+05         Bowler    5.177143e+05   \n",
       "9     2     Allrounder         4.494000e+05     Allrounder    4.494000e+05   \n",
       "10    2     Allrounder         4.494000e+05        Batsman    6.547619e+05   \n",
       "11    2     Allrounder         4.494000e+05         Bowler    3.979310e+05   \n",
       "12    2     Allrounder         4.494000e+05      W. Keeper    4.677273e+05   \n",
       "13    2        Batsman         6.547619e+05     Allrounder    4.494000e+05   \n",
       "14    2        Batsman         6.547619e+05        Batsman    6.547619e+05   \n",
       "15    2        Batsman         6.547619e+05         Bowler    3.979310e+05   \n",
       "16    2        Batsman         6.547619e+05      W. Keeper    4.677273e+05   \n",
       "17    2         Bowler         3.979310e+05     Allrounder    4.494000e+05   \n",
       "18    2         Bowler         3.979310e+05        Batsman    6.547619e+05   \n",
       "19    2         Bowler         3.979310e+05         Bowler    3.979310e+05   \n",
       "20    2         Bowler         3.979310e+05      W. Keeper    4.677273e+05   \n",
       "21    2      W. Keeper         4.677273e+05     Allrounder    4.494000e+05   \n",
       "22    2      W. Keeper         4.677273e+05        Batsman    6.547619e+05   \n",
       "23    2      W. Keeper         4.677273e+05         Bowler    3.979310e+05   \n",
       "24    2      W. Keeper         4.677273e+05      W. Keeper    4.677273e+05   \n",
       "25    3     Allrounder         7.666667e+05     Allrounder    7.666667e+05   \n",
       "26    3     Allrounder         7.666667e+05        Batsman    4.576923e+05   \n",
       "27    3     Allrounder         7.666667e+05         Bowler    4.143750e+05   \n",
       "28    3     Allrounder         7.666667e+05      W. Keeper    7.000000e+05   \n",
       "29    3        Batsman         4.576923e+05     Allrounder    7.666667e+05   \n",
       "30    3        Batsman         4.576923e+05        Batsman    4.576923e+05   \n",
       "31    3        Batsman         4.576923e+05         Bowler    4.143750e+05   \n",
       "32    3        Batsman         4.576923e+05      W. Keeper    7.000000e+05   \n",
       "33    3         Bowler         4.143750e+05     Allrounder    7.666667e+05   \n",
       "34    3         Bowler         4.143750e+05        Batsman    4.576923e+05   \n",
       "35    3         Bowler         4.143750e+05         Bowler    4.143750e+05   \n",
       "36    3         Bowler         4.143750e+05      W. Keeper    7.000000e+05   \n",
       "37    3      W. Keeper         7.000000e+05     Allrounder    7.666667e+05   \n",
       "38    3      W. Keeper         7.000000e+05        Batsman    4.576923e+05   \n",
       "39    3      W. Keeper         7.000000e+05         Bowler    4.143750e+05   \n",
       "40    3      W. Keeper         7.000000e+05      W. Keeper    7.000000e+05   \n",
       "\n",
       "      change  \n",
       "0   0.000000  \n",
       "1  -0.470721  \n",
       "2   0.134796  \n",
       "3   0.889362  \n",
       "4   0.000000  \n",
       "5   1.144040  \n",
       "6  -0.118784  \n",
       "7  -0.533591  \n",
       "8   0.000000  \n",
       "9   0.000000  \n",
       "10 -0.313644  \n",
       "11  0.129341  \n",
       "12 -0.039184  \n",
       "13  0.456969  \n",
       "14  0.000000  \n",
       "15  0.645416  \n",
       "16  0.399880  \n",
       "17 -0.114528  \n",
       "18 -0.392251  \n",
       "19  0.000000  \n",
       "20 -0.149224  \n",
       "21  0.040782  \n",
       "22 -0.285653  \n",
       "23  0.175398  \n",
       "24  0.000000  \n",
       "25  0.000000  \n",
       "26  0.675070  \n",
       "27  0.850176  \n",
       "28  0.095238  \n",
       "29 -0.403010  \n",
       "30  0.000000  \n",
       "31  0.104536  \n",
       "32 -0.346154  \n",
       "33 -0.459511  \n",
       "34 -0.094643  \n",
       "35  0.000000  \n",
       "36 -0.408036  \n",
       "37 -0.086957  \n",
       "38  0.529412  \n",
       "39  0.689291  \n",
       "40  0.000000  "
      ]
     },
     "execution_count": 101,
     "metadata": {},
     "output_type": "execute_result"
    }
   ],
   "source": [
    "soldprice_comparison"
   ]
  },
  {
   "cell_type": "markdown",
   "id": "52258055-4504-4bbe-ae6a-6181a7fce598",
   "metadata": {},
   "source": [
    "### Filtering records based on condition"
   ]
  },
  {
   "cell_type": "code",
   "execution_count": 102,
   "id": "c77e0950-530d-4e9f-830f-6578283ecc6d",
   "metadata": {},
   "outputs": [
    {
     "data": {
      "text/plain": [
       "26        Gayle, CH\n",
       "28    Gilchrist, AC\n",
       "82       Pathan, YK\n",
       "88        Raina, SK\n",
       "97       Sharma, RG\n",
       "Name: PLAYER NAME, dtype: object"
      ]
     },
     "execution_count": 102,
     "metadata": {},
     "output_type": "execute_result"
    }
   ],
   "source": [
    "df_ipl_auction[df_ipl_auction['SIXERS'] > 80]['PLAYER NAME']"
   ]
  },
  {
   "cell_type": "markdown",
   "id": "64bb91d6-015b-461f-9719-ab1e89924fb1",
   "metadata": {},
   "source": [
    "### Removing a column or a row from the dataset"
   ]
  },
  {
   "cell_type": "code",
   "execution_count": 103,
   "id": "668e7ad6-42bd-4f08-a105-d3f1f5da58aa",
   "metadata": {},
   "outputs": [
    {
     "data": {
      "text/plain": [
       "Index(['Sl.NO.', 'PLAYER NAME', 'AGE', 'COUNTRY', 'TEAM', 'PLAYING ROLE',\n",
       "       'T-RUNS', 'T-WKTS', 'ODI-RUNS-S', 'ODI-SR-B', 'ODI-WKTS', 'ODI-SR-BL',\n",
       "       'CAPTAINCY EXP', 'RUNS-S', 'HS', 'AVE', 'SR-B', 'SIXERS', 'RUNS-C',\n",
       "       'WKTS', 'AVE-BL', 'ECON', 'SR-BL', 'AUCTION YEAR', 'BASE PRICE',\n",
       "       'SOLD PRICE', 'Premium'],\n",
       "      dtype='object')"
      ]
     },
     "execution_count": 103,
     "metadata": {},
     "output_type": "execute_result"
    }
   ],
   "source": [
    "df_ipl_auction.columns"
   ]
  },
  {
   "cell_type": "code",
   "execution_count": 104,
   "id": "96462915-0112-4e6c-a114-72155578e156",
   "metadata": {},
   "outputs": [],
   "source": [
    "df_ipl_auction.drop('Sl.NO.',inplace=True, axis=1)"
   ]
  },
  {
   "cell_type": "code",
   "execution_count": 105,
   "id": "c794c0a9-daf3-4cf5-a32d-701393d6b140",
   "metadata": {},
   "outputs": [
    {
     "data": {
      "text/plain": [
       "Index(['PLAYER NAME', 'AGE', 'COUNTRY', 'TEAM', 'PLAYING ROLE', 'T-RUNS',\n",
       "       'T-WKTS', 'ODI-RUNS-S', 'ODI-SR-B', 'ODI-WKTS', 'ODI-SR-BL',\n",
       "       'CAPTAINCY EXP', 'RUNS-S', 'HS', 'AVE', 'SR-B', 'SIXERS', 'RUNS-C',\n",
       "       'WKTS', 'AVE-BL', 'ECON', 'SR-BL', 'AUCTION YEAR', 'BASE PRICE',\n",
       "       'SOLD PRICE', 'Premium'],\n",
       "      dtype='object')"
      ]
     },
     "execution_count": 105,
     "metadata": {},
     "output_type": "execute_result"
    }
   ],
   "source": [
    "df_ipl_auction.columns"
   ]
  },
  {
   "cell_type": "markdown",
   "id": "7f1ad66a-22e1-4747-9306-92fa1835a409",
   "metadata": {},
   "source": [
    "## EDA\n",
    "### Bar Chart"
   ]
  },
  {
   "cell_type": "code",
   "execution_count": 106,
   "id": "3c66e8ab-ba2a-4004-804b-e6c027ae7cca",
   "metadata": {},
   "outputs": [],
   "source": [
    "import matplotlib.pyplot as plt\n",
    "import seaborn as sns\n",
    "%matplotlib inline"
   ]
  },
  {
   "cell_type": "code",
   "execution_count": 107,
   "id": "a713289c-d8ee-4809-b972-11d019142f4b",
   "metadata": {},
   "outputs": [
    {
     "data": {
      "text/plain": [
       "Index(['AGE', 'PLAYING ROLE', 'SOLD PRICE'], dtype='object')"
      ]
     },
     "execution_count": 107,
     "metadata": {},
     "output_type": "execute_result"
    }
   ],
   "source": [
    "sold_price_by_age.columns"
   ]
  },
  {
   "cell_type": "code",
   "execution_count": 108,
   "id": "1585f659-9c69-4e7a-aa94-f2c6e3696adf",
   "metadata": {},
   "outputs": [
    {
     "data": {
      "text/plain": [
       "<Axes: xlabel='AGE', ylabel='SOLD PRICE'>"
      ]
     },
     "execution_count": 108,
     "metadata": {},
     "output_type": "execute_result"
    },
    {
     "data": {
      "image/png": "[encoded data removed]",
      "text/plain": [
       "<Figure size 640x480 with 1 Axes>"
      ]
     },
     "metadata": {},
     "output_type": "display_data"
    }
   ],
   "source": [
    "sns.barplot(data=sold_price_by_age, y='SOLD PRICE', x='AGE')"
   ]
  },
  {
   "cell_type": "code",
   "execution_count": 109,
   "id": "736e171c-e9e3-428c-89c0-f516696e6838",
   "metadata": {},
   "outputs": [
    {
     "data": {
      "text/plain": [
       "Index(['AGE', 'PLAYING ROLE_x', 'SOLD_PRICE_AGE_ROLE', 'PLAYING ROLE_y',\n",
       "       'SOLD_PRICE_AGE', 'change'],\n",
       "      dtype='object')"
      ]
     },
     "execution_count": 109,
     "metadata": {},
     "output_type": "execute_result"
    }
   ],
   "source": [
    "soldprice_comparison.columns"
   ]
  },
  {
   "cell_type": "code",
   "execution_count": 110,
   "id": "fd3efd66-4b98-45f4-b56d-4f10a862fbc1",
   "metadata": {},
   "outputs": [
    {
     "data": {
      "text/plain": [
       "<Axes: xlabel='AGE', ylabel='SOLD_PRICE_AGE_ROLE'>"
      ]
     },
     "execution_count": 110,
     "metadata": {},
     "output_type": "execute_result"
    },
    {
     "data": {
      "image/png": "[encoded data removed]",
      "text/plain": [
       "<Figure size 640x480 with 1 Axes>"
      ]
     },
     "metadata": {},
     "output_type": "display_data"
    }
   ],
   "source": [
    "sns.barplot(data=soldprice_comparison, x='AGE', y='SOLD_PRICE_AGE_ROLE', hue='PLAYING ROLE_x')"
   ]
  },
  {
   "cell_type": "markdown",
   "id": "aa329567-bb33-461a-a7d6-237af2b61668",
   "metadata": {},
   "source": [
    "### Histogram"
   ]
  },
  {
   "cell_type": "code",
   "execution_count": 111,
   "id": "778b2303-0a42-4011-ac1e-ab0972951fee",
   "metadata": {},
   "outputs": [
    {
     "data": {
      "text/plain": [
       "(array([16., 11., 16., 16.,  9., 12.,  5., 15.,  8.,  6.,  6.,  1.,  0.,\n",
       "         0.,  1.,  0.,  1.,  3.,  0.,  4.]),\n",
       " array([  20000.,  109000.,  198000.,  287000.,  376000.,  465000.,\n",
       "         554000.,  643000.,  732000.,  821000.,  910000.,  999000.,\n",
       "        1088000., 1177000., 1266000., 1355000., 1444000., 1533000.,\n",
       "        1622000., 1711000., 1800000.]),\n",
       " <BarContainer object of 20 artists>)"
      ]
     },
     "execution_count": 111,
     "metadata": {},
     "output_type": "execute_result"
    },
    {
     "data": {
      "image/png": "[encoded data removed]",
      "text/plain": [
       "<Figure size 640x480 with 1 Axes>"
      ]
     },
     "metadata": {},
     "output_type": "display_data"
    }
   ],
   "source": [
    "plt.hist(df_ipl_auction['SOLD PRICE'], bins=20)"
   ]
  },
  {
   "cell_type": "code",
   "execution_count": 112,
   "id": "dd0ab96e-d46e-41da-975c-33335c1bb8d4",
   "metadata": {},
   "outputs": [
    {
     "data": {
      "text/plain": [
       "<Axes: xlabel='SOLD PRICE', ylabel='Count'>"
      ]
     },
     "execution_count": 112,
     "metadata": {},
     "output_type": "execute_result"
    },
    {
     "data": {
      "image/png": "[encoded data removed]",
      "text/plain": [
       "<Figure size 640x480 with 1 Axes>"
      ]
     },
     "metadata": {},
     "output_type": "display_data"
    }
   ],
   "source": [
    "sns.histplot(df_ipl_auction['SOLD PRICE'], bins=20, kde=True)"
   ]
  },
  {
   "cell_type": "markdown",
   "id": "426bbc94-58fd-4ef0-a4a3-d3922beb6f8c",
   "metadata": {},
   "source": [
    "### Box plot"
   ]
  },
  {
   "cell_type": "code",
   "execution_count": 113,
   "id": "bca4f8c0-41ae-4116-bad8-9665c130d134",
   "metadata": {},
   "outputs": [
    {
     "data": {
      "text/plain": [
       "<Axes: ylabel='SOLD PRICE'>"
      ]
     },
     "execution_count": 113,
     "metadata": {},
     "output_type": "execute_result"
    },
    {
     "data": {
      "image/png": "[encoded data removed]",
      "text/plain": [
       "<Figure size 640x480 with 1 Axes>"
      ]
     },
     "metadata": {},
     "output_type": "display_data"
    }
   ],
   "source": [
    "sns.boxplot(df_ipl_auction['SOLD PRICE'])"
   ]
  },
  {
   "cell_type": "code",
   "execution_count": 114,
   "id": "60e1d3d6-933d-46a7-863b-f7d9dfa160e8",
   "metadata": {},
   "outputs": [
    {
     "data": {
      "image/png": "[encoded data removed]",
      "text/plain": [
       "<Figure size 640x480 with 1 Axes>"
      ]
     },
     "metadata": {},
     "output_type": "display_data"
    }
   ],
   "source": [
    "box = plt.boxplot(df_ipl_auction['SOLD PRICE'])"
   ]
  },
  {
   "cell_type": "code",
   "execution_count": 115,
   "id": "1e13a651-4a78-41bf-8498-2f49f40dfabb",
   "metadata": {},
   "outputs": [
    {
     "data": {
      "text/plain": [
       "[20000, 1350000]"
      ]
     },
     "execution_count": 115,
     "metadata": {},
     "output_type": "execute_result"
    }
   ],
   "source": [
    "[item.get_ydata()[0] for item in box['caps']]"
   ]
  },
  {
   "cell_type": "code",
   "execution_count": 116,
   "id": "72f2cfc8-c02e-45f5-9975-47cf2163f80a",
   "metadata": {},
   "outputs": [
    {
     "data": {
      "text/plain": [
       "[225000.0, 700000.0]"
      ]
     },
     "execution_count": 116,
     "metadata": {},
     "output_type": "execute_result"
    }
   ],
   "source": [
    "[item.get_ydata()[0] for item in box['whiskers']]"
   ]
  },
  {
   "cell_type": "code",
   "execution_count": 117,
   "id": "da53655a-7358-47e1-bd4f-bc3c76ac7c59",
   "metadata": {},
   "outputs": [
    {
     "data": {
      "text/plain": [
       "[437500.0]"
      ]
     },
     "execution_count": 117,
     "metadata": {},
     "output_type": "execute_result"
    }
   ],
   "source": [
    "[item.get_ydata()[0] for item in box['medians']]"
   ]
  },
  {
   "cell_type": "code",
   "execution_count": 118,
   "id": "ff27383c-dcc1-434f-a9c4-8d3804779826",
   "metadata": {},
   "outputs": [
    {
     "data": {
      "text/plain": [
       "15         Dhoni, MS\n",
       "23       Flintoff, A\n",
       "50          Kohli, V\n",
       "83     Pietersen, KP\n",
       "93         Sehwag, V\n",
       "111    Tendulkar, SR\n",
       "113       Tiwary, SS\n",
       "127     Yuvraj Singh\n",
       "Name: PLAYER NAME, dtype: object"
      ]
     },
     "execution_count": 118,
     "metadata": {},
     "output_type": "execute_result"
    }
   ],
   "source": [
    "#looking at the outliers\n",
    "df_ipl_auction[df_ipl_auction['SOLD PRICE'] > 1350000]['PLAYER NAME']"
   ]
  },
  {
   "cell_type": "code",
   "execution_count": 119,
   "id": "2861d721-89fd-4ca0-9821-7aad122448c7",
   "metadata": {},
   "outputs": [
    {
     "name": "stderr",
     "output_type": "stream",
     "text": [
      "C:\\Users\\rinit\\AppData\\Local\\Temp\\ipykernel_21848\\547943190.py:1: UserWarning: \n",
      "\n",
      "`distplot` is a deprecated function and will be removed in seaborn v0.14.0.\n",
      "\n",
      "Please adapt your code to use either `displot` (a figure-level function with\n",
      "similar flexibility) or `histplot` (an axes-level function for histograms).\n",
      "\n",
      "For a guide to updating your code to use the new functions, please see\n",
      "https://gist.github.com/mwaskom/de44147ed2974457ad6372750bbe5751\n",
      "\n",
      "  sns.distplot( df_ipl_auction[df_ipl_auction['CAPTAINCY EXP'] == 1]['SOLD PRICE'],\n",
      "C:\\Users\\rinit\\AppData\\Local\\Temp\\ipykernel_21848\\547943190.py:4: UserWarning: \n",
      "\n",
      "`distplot` is a deprecated function and will be removed in seaborn v0.14.0.\n",
      "\n",
      "Please adapt your code to use either `displot` (a figure-level function with\n",
      "similar flexibility) or `histplot` (an axes-level function for histograms).\n",
      "\n",
      "For a guide to updating your code to use the new functions, please see\n",
      "https://gist.github.com/mwaskom/de44147ed2974457ad6372750bbe5751\n",
      "\n",
      "  sns.distplot( df_ipl_auction[df_ipl_auction['CAPTAINCY EXP'] == 0]['SOLD PRICE'],\n"
     ]
    },
    {
     "data": {
      "image/png": "[encoded data removed]",
      "text/plain": [
       "<Figure size 640x480 with 1 Axes>"
      ]
     },
     "metadata": {},
     "output_type": "display_data"
    }
   ],
   "source": [
    "sns.distplot( df_ipl_auction[df_ipl_auction['CAPTAINCY EXP'] == 1]['SOLD PRICE'], \n",
    "color = 'y', \n",
    "label = 'Captaincy Experience') \n",
    "sns.distplot( df_ipl_auction[df_ipl_auction['CAPTAINCY EXP'] == 0]['SOLD PRICE'], \n",
    "color = 'r',  \n",
    "label = 'No Captaincy Experience'); \n",
    "plt.legend(); "
   ]
  },
  {
   "cell_type": "code",
   "execution_count": 120,
   "id": "e004f44a-ef41-4456-8075-26004041b7a3",
   "metadata": {},
   "outputs": [
    {
     "data": {
      "image/png": "[encoded data removed]",
      "text/plain": [
       "<Figure size 640x480 with 1 Axes>"
      ]
     },
     "metadata": {},
     "output_type": "display_data"
    }
   ],
   "source": [
    " sns.boxplot(x = 'PLAYING ROLE', y = 'SOLD PRICE', data = df_ipl_auction); "
   ]
  },
  {
   "cell_type": "markdown",
   "id": "109544c8-ee1c-4062-8aa8-0ad176108d0f",
   "metadata": {},
   "source": [
    "### Scatter Plot"
   ]
  },
  {
   "cell_type": "code",
   "execution_count": 121,
   "id": "73c5b4a9-44fd-49de-9131-7c8dee60ca95",
   "metadata": {},
   "outputs": [
    {
     "data": {
      "image/png": "[encoded data removed]",
      "text/plain": [
       "<Figure size 640x480 with 1 Axes>"
      ]
     },
     "metadata": {},
     "output_type": "display_data"
    }
   ],
   "source": [
    "ipl_batsman_df = df_ipl_auction[df_ipl_auction['PLAYING ROLE'] == 'Batsman'] \n",
    "plt.scatter(x = df_ipl_auction.SIXERS, \n",
    "y = df_ipl_auction['SOLD PRICE']); \n",
    "plt.xlabel('SIXERS') \n",
    "plt.ylabel('SOLD PRICE');"
   ]
  },
  {
   "cell_type": "code",
   "execution_count": 122,
   "id": "f7d046eb-8559-4645-a292-74cbb3b25286",
   "metadata": {},
   "outputs": [
    {
     "data": {
      "image/png": "[encoded data removed]",
      "text/plain": [
       "<Figure size 640x480 with 1 Axes>"
      ]
     },
     "metadata": {},
     "output_type": "display_data"
    }
   ],
   "source": [
    " sns.regplot( x = 'SIXERS', \n",
    "y = 'SOLD PRICE',  \n",
    "data = ipl_batsman_df ); "
   ]
  },
  {
   "cell_type": "markdown",
   "id": "811ed8c5-2f58-45b8-b762-26d6783ba2c5",
   "metadata": {},
   "source": [
    "### Pair Plot"
   ]
  },
  {
   "cell_type": "code",
   "execution_count": 123,
   "id": "4054a941-302c-470c-bbff-a2f67cda5b31",
   "metadata": {},
   "outputs": [
    {
     "name": "stderr",
     "output_type": "stream",
     "text": [
      "C:\\Users\\rinit\\anaconda3\\Lib\\site-packages\\seaborn\\axisgrid.py:2100: UserWarning: The `size` parameter has been renamed to `height`; please update your code.\n",
      "  warnings.warn(msg, UserWarning)\n"
     ]
    },
    {
     "data": {
      "text/plain": [
       "<seaborn.axisgrid.PairGrid at 0x189aec6ca70>"
      ]
     },
     "execution_count": 123,
     "metadata": {},
     "output_type": "execute_result"
    },
    {
     "data": {
      "image/png": "[encoded data removed]",
      "text/plain": [
       "<Figure size 800x800 with 20 Axes>"
      ]
     },
     "metadata": {},
     "output_type": "display_data"
    }
   ],
   "source": [
    " influential_features = ['SR-B', 'AVE', 'SIXERS', 'SOLD PRICE']\n",
    " sns.pairplot(df_ipl_auction[influential_features], size=2) \n"
   ]
  },
  {
   "cell_type": "code",
   "execution_count": 124,
   "id": "431dcd84-82a8-43bd-b6a0-98d718466030",
   "metadata": {},
   "outputs": [
    {
     "data": {
      "text/html": [
       "<div>\n",
       "<style scoped>\n",
       "    .dataframe tbody tr th:only-of-type {\n",
       "        vertical-align: middle;\n",
       "    }\n",
       "\n",
       "    .dataframe tbody tr th {\n",
       "        vertical-align: top;\n",
       "    }\n",
       "\n",
       "    .dataframe thead th {\n",
       "        text-align: right;\n",
       "    }\n",
       "</style>\n",
       "<table border=\"1\" class=\"dataframe\">\n",
       "  <thead>\n",
       "    <tr style=\"text-align: right;\">\n",
       "      <th></th>\n",
       "      <th>SR-B</th>\n",
       "      <th>AVE</th>\n",
       "      <th>SIXERS</th>\n",
       "      <th>SOLD PRICE</th>\n",
       "    </tr>\n",
       "  </thead>\n",
       "  <tbody>\n",
       "    <tr>\n",
       "      <th>SR-B</th>\n",
       "      <td>1.000000</td>\n",
       "      <td>0.583579</td>\n",
       "      <td>0.425394</td>\n",
       "      <td>0.184278</td>\n",
       "    </tr>\n",
       "    <tr>\n",
       "      <th>AVE</th>\n",
       "      <td>0.583579</td>\n",
       "      <td>1.000000</td>\n",
       "      <td>0.705365</td>\n",
       "      <td>0.396519</td>\n",
       "    </tr>\n",
       "    <tr>\n",
       "      <th>SIXERS</th>\n",
       "      <td>0.425394</td>\n",
       "      <td>0.705365</td>\n",
       "      <td>1.000000</td>\n",
       "      <td>0.450609</td>\n",
       "    </tr>\n",
       "    <tr>\n",
       "      <th>SOLD PRICE</th>\n",
       "      <td>0.184278</td>\n",
       "      <td>0.396519</td>\n",
       "      <td>0.450609</td>\n",
       "      <td>1.000000</td>\n",
       "    </tr>\n",
       "  </tbody>\n",
       "</table>\n",
       "</div>"
      ],
      "text/plain": [
       "                SR-B       AVE    SIXERS  SOLD PRICE\n",
       "SR-B        1.000000  0.583579  0.425394    0.184278\n",
       "AVE         0.583579  1.000000  0.705365    0.396519\n",
       "SIXERS      0.425394  0.705365  1.000000    0.450609\n",
       "SOLD PRICE  0.184278  0.396519  0.450609    1.000000"
      ]
     },
     "execution_count": 124,
     "metadata": {},
     "output_type": "execute_result"
    }
   ],
   "source": [
    "df_ipl_auction[influential_features].corr()"
   ]
  },
  {
   "cell_type": "code",
   "execution_count": 126,
   "id": "904496f0-5b1d-46e9-93da-dd8494553764",
   "metadata": {},
   "outputs": [
    {
     "data": {
      "text/plain": [
       "<Axes: >"
      ]
     },
     "execution_count": 126,
     "metadata": {},
     "output_type": "execute_result"
    },
    {
     "data": {
      "image/png": "[encoded data removed]",
      "text/plain": [
       "<Figure size 640x480 with 2 Axes>"
      ]
     },
     "metadata": {},
     "output_type": "display_data"
    }
   ],
   "source": [
    "sns.heatmap(df_ipl_auction[influential_features].corr(), annot=True)"
   ]
  },
  {
   "cell_type": "code",
   "execution_count": null,
   "id": "6cf0bb10-1626-427c-b2fe-333b46a5b7c0",
   "metadata": {},
   "outputs": [],
   "source": []
  },
  {
   "cell_type": "code",
   "execution_count": null,
   "id": "50e91c6e-8296-4e52-a612-97ce313a6214",
   "metadata": {},
   "outputs": [],
   "source": []
  },
  {
   "cell_type": "code",
   "execution_count": null,
   "id": "1eb6ea7c-2835-4eca-902e-09d7ac1ac90d",
   "metadata": {},
   "outputs": [],
   "source": []
  },
  {
   "cell_type": "code",
   "execution_count": null,
   "id": "b5e4e86d-250b-4b8a-93a2-9dac052094be",
   "metadata": {},
   "outputs": [],
   "source": []
  },
  {
   "cell_type": "code",
   "execution_count": null,
   "id": "2ed3fbe1-8157-45ac-9b5c-f3aeac8de985",
   "metadata": {},
   "outputs": [],
   "source": []
  },
  {
   "cell_type": "code",
   "execution_count": null,
   "id": "1391fa29-bd73-4225-937e-6280e88c1e49",
   "metadata": {},
   "outputs": [],
   "source": []
  },
  {
   "cell_type": "code",
   "execution_count": null,
   "id": "338233b6-4144-49dc-89ff-bb28e0a3aff6",
   "metadata": {},
   "outputs": [],
   "source": []
  },
  {
   "cell_type": "code",
   "execution_count": null,
   "id": "350262b0-d4c3-47d1-8cba-701f52a46c98",
   "metadata": {},
   "outputs": [],
   "source": []
  }
 ],
 "metadata": {
  "kernelspec": {
   "display_name": "Python 3 (ipykernel)",
   "language": "python",
   "name": "python3"
  },
  "language_info": {
   "codemirror_mode": {
    "name": "ipython",
    "version": 3
   },
   "file_extension": ".py",
   "mimetype": "text/x-python",
   "name": "python",
   "nbconvert_exporter": "python",
   "pygments_lexer": "ipython3",
   "version": "3.12.4"
  }
 },
 "nbformat": 4,
 "nbformat_minor": 5
}
